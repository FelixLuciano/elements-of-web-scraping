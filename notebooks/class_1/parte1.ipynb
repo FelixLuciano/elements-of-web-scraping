{
 "cells": [
  {
   "cell_type": "markdown",
   "id": "handled-kruger",
   "metadata": {},
   "source": [
    "# Análise de texto de fontes desestruturadas e Web\n",
    "\n",
    "## Aula 01 - Parte 1:\n",
    "- Exercícios com strings\n",
    "- Funções\n",
    "\n",
    "Nesta aula, iremos resolver alguns exercícios para nos familiarizarmos com alguns recursos da linguagem Python.\n",
    "\n",
    "Procure resolver os exercícios utilizando apenas as funções de strings, sem importar nenhuma biblioteca. Você pode utilizar, como referência: https://docs.python.org/3/library/stdtypes.html#text-sequence-type-str"
   ]
  },
  {
   "cell_type": "markdown",
   "id": "global-sunglasses",
   "metadata": {},
   "source": [
    "### Considere a variável *msg*, que contém um texto qualquer:"
   ]
  },
  {
   "cell_type": "code",
   "execution_count": 1,
   "id": "victorian-fountain",
   "metadata": {
    "vscode": {
     "languageId": "python"
    }
   },
   "outputs": [],
   "source": [
    "msg = 'Gostei. Bateria dura muito.'"
   ]
  },
  {
   "cell_type": "markdown",
   "id": "sixth-article",
   "metadata": {},
   "source": [
    "**Exercício 01** Crie blocos de código que resolvam os seguintes problemas:\n",
    "\n",
    "a) Exiba a mensagem na saída padrão."
   ]
  },
  {
   "cell_type": "code",
   "execution_count": 2,
   "id": "taken-officer",
   "metadata": {
    "vscode": {
     "languageId": "python"
    }
   },
   "outputs": [
    {
     "name": "stdout",
     "output_type": "stream",
     "text": [
      "Gostei. Bateria dura muito.\n"
     ]
    }
   ],
   "source": [
    "print(msg)"
   ]
  },
  {
   "cell_type": "markdown",
   "id": "working-spice",
   "metadata": {},
   "source": [
    "b) Exiba o tamanho da mensagem."
   ]
  },
  {
   "cell_type": "code",
   "execution_count": 8,
   "id": "norman-variable",
   "metadata": {
    "vscode": {
     "languageId": "python"
    }
   },
   "outputs": [
    {
     "data": {
      "text/plain": [
       "27"
      ]
     },
     "execution_count": 8,
     "metadata": {},
     "output_type": "execute_result"
    }
   ],
   "source": [
    "len(msg)"
   ]
  },
  {
   "cell_type": "markdown",
   "id": "comparative-dubai",
   "metadata": {},
   "source": [
    "**Exercício 02** Neste exercício, iremos acessar caracteres em posições específicas da mensagem.\n",
    "\n",
    "a) Exiba o primeiro caractere da mensagem."
   ]
  },
  {
   "cell_type": "code",
   "execution_count": 9,
   "id": "driving-arabic",
   "metadata": {
    "vscode": {
     "languageId": "python"
    }
   },
   "outputs": [
    {
     "data": {
      "text/plain": [
       "'G'"
      ]
     },
     "execution_count": 9,
     "metadata": {},
     "output_type": "execute_result"
    }
   ],
   "source": [
    "msg[0]"
   ]
  },
  {
   "cell_type": "markdown",
   "id": "hungry-exhibit",
   "metadata": {},
   "source": [
    "b) O que acontece se tentarmos acessar o caractere na posição 27?"
   ]
  },
  {
   "cell_type": "code",
   "execution_count": 10,
   "id": "fatty-sunglasses",
   "metadata": {
    "vscode": {
     "languageId": "python"
    }
   },
   "outputs": [
    {
     "ename": "IndexError",
     "evalue": "string index out of range",
     "output_type": "error",
     "traceback": [
      "\u001b[0;31m---------------------------------------------------------------------------\u001b[0m",
      "\u001b[0;31mIndexError\u001b[0m                                Traceback (most recent call last)",
      "Cell \u001b[0;32mIn[10], line 1\u001b[0m\n\u001b[0;32m----> 1\u001b[0m msg[\u001b[39m27\u001b[39;49m]\n",
      "\u001b[0;31mIndexError\u001b[0m: string index out of range"
     ]
    }
   ],
   "source": [
    "msg[27]"
   ]
  },
  {
   "cell_type": "markdown",
   "id": "digital-occasion",
   "metadata": {},
   "source": [
    "Explique por que isto acontece:"
   ]
  },
  {
   "cell_type": "markdown",
   "id": "innocent-august",
   "metadata": {},
   "source": [
    "R:"
   ]
  },
  {
   "cell_type": "markdown",
   "id": "significant-dress",
   "metadata": {},
   "source": [
    "c) E se quiséssemos, utilizando índices, acessar a primeira palavra?\n",
    "\n",
    "Dica: string slice https://www.digitalocean.com/community/tutorials/python-slice-string"
   ]
  },
  {
   "cell_type": "code",
   "execution_count": 11,
   "id": "equivalent-devon",
   "metadata": {
    "vscode": {
     "languageId": "python"
    }
   },
   "outputs": [
    {
     "name": "stdout",
     "output_type": "stream",
     "text": [
      "Gostei\n",
      "Gostei\n"
     ]
    }
   ],
   "source": [
    "print(msg[0:6])\n",
    "print(msg[:6])"
   ]
  },
  {
   "cell_type": "markdown",
   "id": "academic-tobacco",
   "metadata": {},
   "source": [
    "d) E para acessar as últimas quatro letras?"
   ]
  },
  {
   "cell_type": "code",
   "execution_count": 12,
   "id": "fossil-prospect",
   "metadata": {
    "vscode": {
     "languageId": "python"
    }
   },
   "outputs": [
    {
     "name": "stdout",
     "output_type": "stream",
     "text": [
      "ito.\n",
      "ito.\n"
     ]
    }
   ],
   "source": [
    "print(msg[len(msg)-4:len(msg)])\n",
    "print(msg[-4:])"
   ]
  },
  {
   "cell_type": "markdown",
   "id": "moving-liberal",
   "metadata": {},
   "source": [
    "e) E para ter tudo, exceto as primeiras seis letras?"
   ]
  },
  {
   "cell_type": "code",
   "execution_count": 13,
   "id": "cardiac-journey",
   "metadata": {
    "vscode": {
     "languageId": "python"
    }
   },
   "outputs": [
    {
     "name": "stdout",
     "output_type": "stream",
     "text": [
      ". Bateria dura muito.\n",
      ". Bateria dura muito.\n"
     ]
    }
   ],
   "source": [
    "print(msg[6:len(msg)])\n",
    "print(msg[6:])"
   ]
  },
  {
   "cell_type": "markdown",
   "id": "awful-conference",
   "metadata": {},
   "source": [
    "f) Como testar se a primeira letra é um caractere alfanumérico?"
   ]
  },
  {
   "cell_type": "code",
   "execution_count": 14,
   "id": "likely-shade",
   "metadata": {
    "vscode": {
     "languageId": "python"
    }
   },
   "outputs": [
    {
     "data": {
      "text/plain": [
       "True"
      ]
     },
     "execution_count": 14,
     "metadata": {},
     "output_type": "execute_result"
    }
   ],
   "source": [
    "msg[0].isalpha()"
   ]
  },
  {
   "cell_type": "markdown",
   "id": "therapeutic-institute",
   "metadata": {},
   "source": [
    "g) Como testar se a primeira letra é um caractere numérico?"
   ]
  },
  {
   "cell_type": "code",
   "execution_count": 15,
   "id": "terminal-friendly",
   "metadata": {
    "vscode": {
     "languageId": "python"
    }
   },
   "outputs": [
    {
     "data": {
      "text/plain": [
       "False"
      ]
     },
     "execution_count": 15,
     "metadata": {},
     "output_type": "execute_result"
    }
   ],
   "source": [
    "msg[0].isdigit()"
   ]
  },
  {
   "cell_type": "markdown",
   "id": "featured-center",
   "metadata": {},
   "source": [
    "**Exercício 03** Suponha que a variável *nome* possua espaços no início e final."
   ]
  },
  {
   "cell_type": "code",
   "execution_count": 16,
   "id": "thousand-advocacy",
   "metadata": {
    "vscode": {
     "languageId": "python"
    }
   },
   "outputs": [],
   "source": [
    "nome = '    Manuela Duarte    '"
   ]
  },
  {
   "cell_type": "markdown",
   "id": "cordless-administrator",
   "metadata": {},
   "source": [
    "Como removê-los?"
   ]
  },
  {
   "cell_type": "code",
   "execution_count": 17,
   "id": "french-equilibrium",
   "metadata": {
    "vscode": {
     "languageId": "python"
    }
   },
   "outputs": [
    {
     "data": {
      "text/plain": [
       "'Manuela Duarte'"
      ]
     },
     "execution_count": 17,
     "metadata": {},
     "output_type": "execute_result"
    }
   ],
   "source": [
    "nome.strip()"
   ]
  },
  {
   "cell_type": "markdown",
   "id": "provincial-subcommittee",
   "metadata": {},
   "source": [
    "**Exercício 04** E se quiséssemos repetir um caractere ou palavra diversas vezes?\n",
    "Cria uma rotina para repetir quinze traços."
   ]
  },
  {
   "cell_type": "code",
   "execution_count": 18,
   "id": "experienced-basement",
   "metadata": {
    "vscode": {
     "languageId": "python"
    }
   },
   "outputs": [
    {
     "name": "stdout",
     "output_type": "stream",
     "text": [
      "---------------\n"
     ]
    }
   ],
   "source": [
    "n = 15\n",
    "print('-' * n)"
   ]
  },
  {
   "cell_type": "markdown",
   "id": "fluid-skirt",
   "metadata": {},
   "source": [
    "### Agora iremos redefinir a variável *msg*:"
   ]
  },
  {
   "cell_type": "code",
   "execution_count": 4,
   "id": "optimum-rainbow",
   "metadata": {
    "vscode": {
     "languageId": "python"
    }
   },
   "outputs": [],
   "source": [
    "msg = 'Gostei. Bateria dura muito, mas muito mais. Definição da tela melhorou muito, porém é menor que o iPhone X. Não gostei do formato quadrado.'"
   ]
  },
  {
   "cell_type": "markdown",
   "id": "several-reception",
   "metadata": {},
   "source": [
    "**Exercício 05** Agora iremos verificar se uma substring faz parte da mensagem.\n",
    "\n",
    "a) Como podemos contar quantas vezes a palavra '*muito*' aparece na mensagem?"
   ]
  },
  {
   "cell_type": "code",
   "execution_count": 20,
   "id": "instrumental-somalia",
   "metadata": {
    "vscode": {
     "languageId": "python"
    }
   },
   "outputs": [
    {
     "data": {
      "text/plain": [
       "3"
      ]
     },
     "execution_count": 20,
     "metadata": {},
     "output_type": "execute_result"
    }
   ],
   "source": [
    "msg.count(\"muito\")"
   ]
  },
  {
   "cell_type": "markdown",
   "id": "piano-bearing",
   "metadata": {},
   "source": [
    "b) Como podemos contar quantas vezes a palavra '*muito*' aparece nos primeiros 40 caracteres da mensagem?"
   ]
  },
  {
   "cell_type": "code",
   "execution_count": 21,
   "id": "flying-lindsay",
   "metadata": {
    "vscode": {
     "languageId": "python"
    }
   },
   "outputs": [
    {
     "name": "stdout",
     "output_type": "stream",
     "text": [
      "2\n",
      "2\n"
     ]
    }
   ],
   "source": [
    "n = 40\n",
    "print(msg[0:(n+1)].count('muito')) # uma forma\n",
    "print(msg.count('muito', 0, n))    # outra forma"
   ]
  },
  {
   "cell_type": "markdown",
   "id": "czech-running",
   "metadata": {},
   "source": [
    "c) E se quiséssemos saber se a palavra '*muito*' aparece na mensagem completa, indiferente da quantidade (resposta `True` ou `False`)?"
   ]
  },
  {
   "cell_type": "code",
   "execution_count": 22,
   "id": "exposed-bubble",
   "metadata": {
    "vscode": {
     "languageId": "python"
    }
   },
   "outputs": [
    {
     "data": {
      "text/plain": [
       "3"
      ]
     },
     "execution_count": 22,
     "metadata": {},
     "output_type": "execute_result"
    }
   ],
   "source": [
    "msg.count(\"muito\")"
   ]
  },
  {
   "cell_type": "markdown",
   "id": "fancy-lunch",
   "metadata": {},
   "source": [
    "**Exercício 06** Como podemos verificar se a mensagem termina com um ponto *'.'*?"
   ]
  },
  {
   "cell_type": "code",
   "execution_count": 23,
   "id": "controversial-sensitivity",
   "metadata": {
    "vscode": {
     "languageId": "python"
    }
   },
   "outputs": [
    {
     "data": {
      "text/plain": [
       "True"
      ]
     },
     "execution_count": 23,
     "metadata": {},
     "output_type": "execute_result"
    }
   ],
   "source": [
    "msg.endswith('.')"
   ]
  },
  {
   "cell_type": "markdown",
   "id": "statewide-dance",
   "metadata": {},
   "source": [
    "**Exercício 07** Como podemos verificar se a mensagem começa com a letra *'P'*?"
   ]
  },
  {
   "cell_type": "code",
   "execution_count": 24,
   "id": "documentary-nutrition",
   "metadata": {
    "vscode": {
     "languageId": "python"
    }
   },
   "outputs": [
    {
     "data": {
      "text/plain": [
       "False"
      ]
     },
     "execution_count": 24,
     "metadata": {},
     "output_type": "execute_result"
    }
   ],
   "source": [
    "msg.startswith('P')"
   ]
  },
  {
   "cell_type": "markdown",
   "id": "atmospheric-check",
   "metadata": {},
   "source": [
    "**Exercício 08** Como podemos substituir a palavra ***quadrado*** por ***retangular***? Faça de forma que uma palavra qualquer possa ser substituída por outra."
   ]
  },
  {
   "cell_type": "code",
   "execution_count": 25,
   "id": "thrown-removal",
   "metadata": {
    "vscode": {
     "languageId": "python"
    }
   },
   "outputs": [
    {
     "data": {
      "text/plain": [
       "'Gostei. Bateria dura muito, mas muito mais. Definição da tela melhorou muito, porém é menor que o iPhone X. Não gostei do formato retangular.'"
      ]
     },
     "execution_count": 25,
     "metadata": {},
     "output_type": "execute_result"
    }
   ],
   "source": [
    "msg.replace(\"quadrado\", \"retangular\")"
   ]
  },
  {
   "cell_type": "markdown",
   "id": "exact-modeling",
   "metadata": {},
   "source": [
    "**Exercício 09** Como podemos transformar toda *msg*  para minúsculo?"
   ]
  },
  {
   "cell_type": "code",
   "execution_count": 26,
   "id": "finished-payment",
   "metadata": {
    "vscode": {
     "languageId": "python"
    }
   },
   "outputs": [
    {
     "data": {
      "text/plain": [
       "'gostei. bateria dura muito, mas muito mais. definição da tela melhorou muito, porém é menor que o iphone x. não gostei do formato quadrado.'"
      ]
     },
     "execution_count": 26,
     "metadata": {},
     "output_type": "execute_result"
    }
   ],
   "source": [
    "msg.lower()"
   ]
  },
  {
   "cell_type": "markdown",
   "id": "decreased-kitchen",
   "metadata": {},
   "source": [
    "**Exercício 10** Como verificar se a *msg* começa com *'g'*, indiferente do case (maiúsculo, minúsculo)?"
   ]
  },
  {
   "cell_type": "code",
   "execution_count": 27,
   "id": "particular-company",
   "metadata": {
    "vscode": {
     "languageId": "python"
    }
   },
   "outputs": [
    {
     "data": {
      "text/plain": [
       "True"
      ]
     },
     "execution_count": 27,
     "metadata": {},
     "output_type": "execute_result"
    }
   ],
   "source": [
    "msg.lower().startswith('g')"
   ]
  },
  {
   "cell_type": "markdown",
   "id": "surface-treasury",
   "metadata": {},
   "source": [
    "**Exercício 11** Como testar se a *msg* está em minúsculo?"
   ]
  },
  {
   "cell_type": "code",
   "execution_count": 28,
   "id": "fitting-english",
   "metadata": {
    "vscode": {
     "languageId": "python"
    }
   },
   "outputs": [
    {
     "data": {
      "text/plain": [
       "False"
      ]
     },
     "execution_count": 28,
     "metadata": {},
     "output_type": "execute_result"
    }
   ],
   "source": [
    "msg.islower()"
   ]
  },
  {
   "cell_type": "markdown",
   "id": "confused-longer",
   "metadata": {},
   "source": [
    "**Exercício 12** Como podemos transformar cada inicial das palavras em *msg* para maiúsculo, mantendo o resto em minúsculo?"
   ]
  },
  {
   "cell_type": "code",
   "execution_count": 29,
   "id": "rotary-mineral",
   "metadata": {
    "vscode": {
     "languageId": "python"
    }
   },
   "outputs": [
    {
     "data": {
      "text/plain": [
       "'Gostei. Bateria Dura Muito, Mas Muito Mais. Definição Da Tela Melhorou Muito, Porém É Menor Que O Iphone X. Não Gostei Do Formato Quadrado.'"
      ]
     },
     "execution_count": 29,
     "metadata": {},
     "output_type": "execute_result"
    }
   ],
   "source": [
    "\" \".join(map(str.capitalize, msg.split(\" \")))"
   ]
  },
  {
   "cell_type": "markdown",
   "id": "anonymous-christmas",
   "metadata": {},
   "source": [
    "**Exercício 13** Como podemos transformar apenas a primeira letra da *msg* para maiúsculo, mantendo o resto em minúsculo?"
   ]
  },
  {
   "cell_type": "code",
   "execution_count": 30,
   "id": "capital-wrestling",
   "metadata": {
    "vscode": {
     "languageId": "python"
    }
   },
   "outputs": [
    {
     "data": {
      "text/plain": [
       "'Gostei. bateria dura muito, mas muito mais. definição da tela melhorou muito, porém é menor que o iphone x. não gostei do formato quadrado.'"
      ]
     },
     "execution_count": 30,
     "metadata": {},
     "output_type": "execute_result"
    }
   ],
   "source": [
    "msg[0].upper() + msg[1:].lower()"
   ]
  },
  {
   "cell_type": "markdown",
   "id": "featured-plymouth",
   "metadata": {},
   "source": [
    "**Exercício 14** Neste exercício:\n",
    "\n",
    "\n",
    "a) Você deve criar uma lista, contendo cada uma das palavras na mensagem:"
   ]
  },
  {
   "cell_type": "code",
   "execution_count": 31,
   "id": "substantial-packet",
   "metadata": {
    "vscode": {
     "languageId": "python"
    }
   },
   "outputs": [
    {
     "name": "stdout",
     "output_type": "stream",
     "text": [
      "['Gostei.', 'Bateria', 'dura', 'muito,', 'mas', 'muito', 'mais.', 'Definição', 'da', 'tela', 'melhorou', 'muito,', 'porém', 'é', 'menor', 'que', 'o', 'iPhone', 'X.', 'Não', 'gostei', 'do', 'formato', 'quadrado.']\n"
     ]
    }
   ],
   "source": [
    "palavras = msg.split(\" \")\n",
    "print(palavras)"
   ]
  },
  {
   "cell_type": "markdown",
   "id": "dynamic-commodity",
   "metadata": {},
   "source": [
    "b) Como podemos acessar a primeira palavra da lista?"
   ]
  },
  {
   "cell_type": "code",
   "execution_count": 32,
   "id": "mighty-wonder",
   "metadata": {
    "vscode": {
     "languageId": "python"
    }
   },
   "outputs": [
    {
     "data": {
      "text/plain": [
       "'Gostei.'"
      ]
     },
     "execution_count": 32,
     "metadata": {},
     "output_type": "execute_result"
    }
   ],
   "source": [
    "palavras[0]"
   ]
  },
  {
   "cell_type": "markdown",
   "id": "supposed-situation",
   "metadata": {},
   "source": [
    "c) Como podemos acessar a última palavra da lista?"
   ]
  },
  {
   "cell_type": "code",
   "execution_count": 33,
   "id": "collectible-reggae",
   "metadata": {
    "vscode": {
     "languageId": "python"
    }
   },
   "outputs": [
    {
     "data": {
      "text/plain": [
       "'quadrado.'"
      ]
     },
     "execution_count": 33,
     "metadata": {},
     "output_type": "execute_result"
    }
   ],
   "source": [
    "palavras[-1]"
   ]
  },
  {
   "cell_type": "markdown",
   "id": "oriented-interval",
   "metadata": {},
   "source": [
    "d) Como podemos acessar da segunda até a quarta palavra na lista?"
   ]
  },
  {
   "cell_type": "code",
   "execution_count": 34,
   "id": "handy-correlation",
   "metadata": {
    "vscode": {
     "languageId": "python"
    }
   },
   "outputs": [
    {
     "data": {
      "text/plain": [
       "['Bateria', 'dura', 'muito,']"
      ]
     },
     "execution_count": 34,
     "metadata": {},
     "output_type": "execute_result"
    }
   ],
   "source": [
    "palavras[1: 4]"
   ]
  },
  {
   "cell_type": "markdown",
   "id": "destroyed-taiwan",
   "metadata": {},
   "source": [
    "e) Percebeu que as pontuações estão como parte das palavras? Crie um bloco de código que remove pontuações antes de criar a lista de palavras."
   ]
  },
  {
   "cell_type": "code",
   "execution_count": 35,
   "id": "exterior-least",
   "metadata": {
    "vscode": {
     "languageId": "python"
    }
   },
   "outputs": [
    {
     "data": {
      "text/plain": [
       "['Gostei',\n",
       " 'Bateria',\n",
       " 'dura',\n",
       " 'muito',\n",
       " 'mas',\n",
       " 'muito',\n",
       " 'mais',\n",
       " 'Definição',\n",
       " 'da',\n",
       " 'tela',\n",
       " 'melhorou',\n",
       " 'muito',\n",
       " 'porém',\n",
       " 'é',\n",
       " 'menor',\n",
       " 'que',\n",
       " 'o',\n",
       " 'iPhone',\n",
       " 'X',\n",
       " 'Não',\n",
       " 'gostei',\n",
       " 'do',\n",
       " 'formato',\n",
       " 'quadrado']"
      ]
     },
     "execution_count": 35,
     "metadata": {},
     "output_type": "execute_result"
    }
   ],
   "source": [
    "palavras = msg.replace('.', '').replace(',', '').split(' ')\n",
    "palavras"
   ]
  },
  {
   "cell_type": "markdown",
   "id": "christian-player",
   "metadata": {},
   "source": [
    "f) E se quiséssemos saber todas as palavras contidas na mensagem, mas **sem repetições**?"
   ]
  },
  {
   "cell_type": "code",
   "execution_count": 36,
   "id": "proved-collins",
   "metadata": {
    "vscode": {
     "languageId": "python"
    }
   },
   "outputs": [
    {
     "data": {
      "text/plain": [
       "{'Bateria',\n",
       " 'Definição',\n",
       " 'Gostei',\n",
       " 'Não',\n",
       " 'X',\n",
       " 'da',\n",
       " 'do',\n",
       " 'dura',\n",
       " 'formato',\n",
       " 'gostei',\n",
       " 'iPhone',\n",
       " 'mais',\n",
       " 'mas',\n",
       " 'melhorou',\n",
       " 'menor',\n",
       " 'muito',\n",
       " 'o',\n",
       " 'porém',\n",
       " 'quadrado',\n",
       " 'que',\n",
       " 'tela',\n",
       " 'é'}"
      ]
     },
     "execution_count": 36,
     "metadata": {},
     "output_type": "execute_result"
    }
   ],
   "source": [
    "set(palavras)"
   ]
  },
  {
   "attachments": {
    "image.png": {
     "image/png": "[encoded data removed]"
    }
   },
   "cell_type": "markdown",
   "id": "competitive-latter",
   "metadata": {},
   "source": [
    "## Funções\n",
    "\n",
    "Uma função é um bloco de código que é executado apenas quando \"chamado\".\n",
    "\n",
    "Com elas, é possível manter o código **organizado**, uma vez que podemos quebrar uma **atividade grande** em **pequenos pedaços**, cada um resolvido por uma **função**. Além disso, uma característica interessante das funções é que podem ser **reutilizadas**, ou seja, uma vez escrita, a função pode ser chamada diversas vezes sempre que precisarmos da atividade que ela resolve.\n",
    "\n",
    "\n",
    "\n",
    "![image.png](attachment:image.png)\n",
    "\n",
    "\n",
    "\n",
    "Como exemplo, podemos criar uma função que calcule a área do retângulo:"
   ]
  },
  {
   "cell_type": "code",
   "execution_count": 37,
   "id": "compliant-proportion",
   "metadata": {
    "vscode": {
     "languageId": "python"
    }
   },
   "outputs": [],
   "source": [
    "def area_retangulo(lado_a, lado_b):\n",
    "    area = lado_a * lado_b\n",
    "    return area"
   ]
  },
  {
   "cell_type": "markdown",
   "id": "convinced-toolbox",
   "metadata": {},
   "source": [
    "e utilizá-la sempre que necessário:"
   ]
  },
  {
   "cell_type": "code",
   "execution_count": 38,
   "id": "given-punishment",
   "metadata": {
    "vscode": {
     "languageId": "python"
    }
   },
   "outputs": [
    {
     "name": "stdout",
     "output_type": "stream",
     "text": [
      "6.0\n",
      "3.21\n"
     ]
    }
   ],
   "source": [
    "print(area_retangulo(2.0, 3.0))\n",
    "print(area_retangulo(1.5, 2.14))"
   ]
  },
  {
   "cell_type": "markdown",
   "id": "veterinary-association",
   "metadata": {},
   "source": [
    "Legal?! Agora vamos tentar de uma forma um pouco mais elaborada!"
   ]
  },
  {
   "cell_type": "code",
   "execution_count": 39,
   "id": "downtown-video",
   "metadata": {
    "vscode": {
     "languageId": "python"
    }
   },
   "outputs": [
    {
     "name": "stdout",
     "output_type": "stream",
     "text": [
      "A area do retângulo de lados 5.34 e 3.10 é igual a 16.55\n"
     ]
    }
   ],
   "source": [
    "lado_a = 5.338\n",
    "lado_b = 3.1\n",
    "area = area_retangulo(lado_a, lado_b)\n",
    "print('A area do retângulo de lados {:.2f} e {:.2f} é igual a {:.2f}'.format(lado_a, lado_b, area))"
   ]
  },
  {
   "attachments": {
    "image.png": {
     "image/png": "[encoded data removed]"
    }
   },
   "cell_type": "markdown",
   "id": "manufactured-roberts",
   "metadata": {},
   "source": [
    "Perceba que a função tem três partes principais:\n",
    "\n",
    "![image.png](attachment:image.png)\n",
    "\n",
    "+ seu **identificador**: é o nome da função, pelo qual será chamada. Neste caso, chamamos de `area_retangulo`.\n",
    "\n",
    "+ seus **parâmetros**: são as **entradas**, os valores ou informações que a função precisa receber para realizar sua atividade. No exemplo, para calcular a área do retângulo precisamos da medida dos dois lados, ou seja, a função precisa de dois parâmetros (`lado_a`, `lado_b`).\n",
    "\n",
    "+ o **retorno**: é o valor que a função **devolve** (saída) para quem a chamou. Neste caso, a função `area_retangulo` retorna o valor da *área*.\n",
    "\n",
    "Você pode construir funções sem parâmetros ou sem retorno. Não confunda a saída da função (o valor que ela devolve) com as informações dispolizadas, por exemplo, na saída padrão!\n",
    "\n",
    "Como exemplo, considere a função:"
   ]
  },
  {
   "cell_type": "code",
   "execution_count": 40,
   "id": "senior-retreat",
   "metadata": {
    "vscode": {
     "languageId": "python"
    }
   },
   "outputs": [],
   "source": [
    "def format_name(name):\n",
    "    print('Olá {}, tudo bem com você?!'.format(name))"
   ]
  },
  {
   "cell_type": "markdown",
   "id": "southeast-piano",
   "metadata": {},
   "source": [
    "que recebe um parâmetro e imprime uma mensagem formatada na saída padrão, sem retornar nada."
   ]
  },
  {
   "cell_type": "code",
   "execution_count": 41,
   "id": "fewer-young",
   "metadata": {
    "vscode": {
     "languageId": "python"
    }
   },
   "outputs": [
    {
     "name": "stdout",
     "output_type": "stream",
     "text": [
      "Olá Pedro, tudo bem com você?!\n",
      "Olá Adriana, tudo bem com você?!\n"
     ]
    }
   ],
   "source": [
    "format_name('Pedro')\n",
    "format_name('Adriana')"
   ]
  },
  {
   "cell_type": "markdown",
   "id": "academic-celebration",
   "metadata": {},
   "source": [
    "**Exercício 15** Cria uma função:\n",
    "\n",
    "a) que recebe uma String e devolve uma lista de palavras contidas na String:"
   ]
  },
  {
   "cell_type": "code",
   "execution_count": 42,
   "id": "3a2a04cf",
   "metadata": {
    "vscode": {
     "languageId": "python"
    }
   },
   "outputs": [
    {
     "data": {
      "text/plain": [
       "['quero', 'ver', 'se', 'consigo', 'ver']"
      ]
     },
     "execution_count": 42,
     "metadata": {},
     "output_type": "execute_result"
    }
   ],
   "source": [
    "def words(msg):\n",
    "    return msg.split(\" \")\n",
    "\n",
    "words('quero ver se consigo ver')"
   ]
  },
  {
   "cell_type": "markdown",
   "id": "a8a012b9",
   "metadata": {},
   "source": [
    "b) que recebe uma String e devolve uma lista de palavras contidas na String, sem repetições:"
   ]
  },
  {
   "cell_type": "code",
   "execution_count": 43,
   "id": "historic-variance",
   "metadata": {
    "vscode": {
     "languageId": "python"
    }
   },
   "outputs": [
    {
     "data": {
      "text/plain": [
       "{'consigo', 'quero', 'se', 'ver'}"
      ]
     },
     "execution_count": 43,
     "metadata": {},
     "output_type": "execute_result"
    }
   ],
   "source": [
    "def words(msg):\n",
    "    return set(msg.split(\" \"))\n",
    "\n",
    "words('quero ver se consigo ver')"
   ]
  },
  {
   "cell_type": "markdown",
   "id": "b2f0f5d2",
   "metadata": {},
   "source": [
    "**Exercício 16** Crie uma função\n",
    "\n",
    "a) que recebe uma string e retorna o index da primeira ocorrência de uma substring\n",
    "https://docs.python.org/3/library/stdtypes.html#text-sequence-type-str"
   ]
  },
  {
   "cell_type": "code",
   "execution_count": 44,
   "id": "d781f1c0",
   "metadata": {
    "vscode": {
     "languageId": "python"
    }
   },
   "outputs": [
    {
     "data": {
      "text/plain": [
       "2"
      ]
     },
     "execution_count": 44,
     "metadata": {},
     "output_type": "execute_result"
    }
   ],
   "source": [
    "def find_first(msg, sub):\n",
    "    return msg.index(sub)\n",
    "\n",
    "find_first('O CEO foi demitido', 'CEO')"
   ]
  },
  {
   "cell_type": "markdown",
   "id": "f2237247",
   "metadata": {},
   "source": [
    "b) que recebe uma string e retorna o index da última ocorrência de uma substring\n",
    "https://docs.python.org/3/library/stdtypes.html#text-sequence-type-str"
   ]
  },
  {
   "cell_type": "code",
   "execution_count": 47,
   "id": "744f30ae",
   "metadata": {
    "vscode": {
     "languageId": "python"
    }
   },
   "outputs": [
    {
     "data": {
      "text/plain": [
       "25"
      ]
     },
     "execution_count": 47,
     "metadata": {},
     "output_type": "execute_result"
    }
   ],
   "source": [
    "def find_last(msg, sub):\n",
    "    return len(msg) - len(sub) - msg[::-1].index(sub[::-1])\n",
    "\n",
    "find_last('O CEO foi demitido. Ele (CEO) nao esperava por isso', 'CEO')"
   ]
  },
  {
   "cell_type": "markdown",
   "id": "5fcf0b59",
   "metadata": {},
   "source": [
    "c) agora, altere para buscar sem *case sensitive* (independente de maiúsculas e minúsculas)"
   ]
  },
  {
   "cell_type": "code",
   "execution_count": 48,
   "id": "f3d86840",
   "metadata": {
    "vscode": {
     "languageId": "python"
    }
   },
   "outputs": [
    {
     "data": {
      "text/plain": [
       "25"
      ]
     },
     "execution_count": 48,
     "metadata": {},
     "output_type": "execute_result"
    }
   ],
   "source": [
    "def find_last(msg, sub):\n",
    "    return len(msg) - len(sub) - msg.lower()[::-1].index(sub[::-1].lower())\n",
    "\n",
    "find_last('O CEO foi demitido. Ele (CEO) nao esperava por isso', 'ceo')"
   ]
  },
  {
   "cell_type": "markdown",
   "id": "9242ab6b",
   "metadata": {},
   "source": [
    "**Exercício 17** Crie uma função que remove strings vazias de uma lista de palavras:\n",
    "\n",
    "Exemplo:\n",
    "\n",
    "***Entrada***: ['o', 'juiz', '', 'acatou', 'o', '', 'pedido']\n",
    "\n",
    "***Saída***: ['o', 'juiz', 'acatou', 'o', 'pedido']"
   ]
  },
  {
   "cell_type": "code",
   "execution_count": 49,
   "id": "429d25b5",
   "metadata": {
    "vscode": {
     "languageId": "python"
    }
   },
   "outputs": [
    {
     "data": {
      "text/plain": [
       "['o', 'juiz', 'acatou', 'o', 'pedido']"
      ]
     },
     "execution_count": 49,
     "metadata": {},
     "output_type": "execute_result"
    }
   ],
   "source": [
    "lista_p = ['o', 'juiz', '', 'acatou', 'o', '', 'pedido']\n",
    "\n",
    "def clear_list(list):\n",
    "    return [item for item in list if item != \"\"]\n",
    "\n",
    "clear_list(lista_p)"
   ]
  },
  {
   "cell_type": "markdown",
   "id": "1b98c71a",
   "metadata": {},
   "source": [
    "**Exercício 18** Crie uma função chamada **count_digits** que conta quantos caracteres numéricos existem em uma string:"
   ]
  },
  {
   "cell_type": "code",
   "execution_count": 2,
   "id": "ec9cbb7c",
   "metadata": {
    "vscode": {
     "languageId": "python"
    }
   },
   "outputs": [
    {
     "data": {
      "text/plain": [
       "5"
      ]
     },
     "execution_count": 2,
     "metadata": {},
     "output_type": "execute_result"
    }
   ],
   "source": [
    "def count_digits(msg):\n",
    "    # seu codigo aqui!\n",
    "    return len([char for char in msg if char.isnumeric()])\n",
    "\n",
    "count_digits(\"a1 b2 c3 d4 e5\")"
   ]
  },
  {
   "cell_type": "markdown",
   "id": "gorgeous-douglas",
   "metadata": {},
   "source": [
    "**Exercício 19** Pontuações geralmente são consideradas como pouco informativas em análises de dados ou para predições com base em processamento de linguagem natural (Ex: textos, mensagens).\n",
    "\n",
    "Além disso, certas palavras também podem ser desconsideradas das análises. Estas palavras são chamadas de **stop words** e são filtradas (removidas) antes das análises.\n",
    "\n",
    "Apesar de existirem algumas listas comumente utilizadas como **stop words**, não há uma lista universal. Assim, você pode construir a sua própria lista caso julgue necessário.\n",
    "\n",
    "Crie uma função que recebe um texto e:\n",
    "- transforma todo o texto para minúsculo;\n",
    "- remove pontuações;\n",
    "- remove stop words. Crie a sua própria lista de stop words, conforme julgar necessário.\n"
   ]
  },
  {
   "cell_type": "code",
   "execution_count": 5,
   "id": "chief-superior",
   "metadata": {
    "vscode": {
     "languageId": "python"
    }
   },
   "outputs": [
    {
     "data": {
      "text/plain": [
       "'gostei bateria dura definição tela melhorou porém menor iphone x gostei formato quadrado'"
      ]
     },
     "execution_count": 5,
     "metadata": {},
     "output_type": "execute_result"
    }
   ],
   "source": [
    "def remove_pontuacoes(text):\n",
    "    return text.replace(',', '').replace('.', '')\n",
    "\n",
    "def remove_words(text, words):\n",
    "    return \" \".join([word for word in text.split(\" \") if word not in words])\n",
    "\n",
    "def remove_stop_words(text):\n",
    "    return remove_words(text, [\n",
    "        \"de\",\"a\",\"o\",\"que\",\"e\",\"do\",\"da\",\"em\",\"um\",\"para\",\"é\",\"com\",\"não\",\"uma\",\"os\",\"no\",\"se\",\"na\",\"por\",\"mais\",\"as\",\"dos\",\"como\",\"mas\",\"foi\",\"ao\",\"ele\",\"das\",\"tem\",\"à\",\"seu\",\"sua\",\"ou\",\"ser\",\"quando\",\"muito\",\"há\",\"nos\",\"já\",\"está\",\"eu\",\"também\",\"só\",\"pelo\",\"pela\",\"até\",\"isso\",\"ela\",\"entre\",\"era\",\"depois\",\"sem\",\"mesmo\",\"aos\",\"ter\",\"seus\",\"quem\",\"nas\",\"me\",\"esse\",\"eles\",\"estão\",\"você\",\"tinha\",\"foram\",\"essa\",\"num\",\"nem\",\"suas\",\"meu\",\"às\",\"minha\",\"têm\",\"numa\",\"pelos\",\"elas\",\"havia\",\"seja\",\"qual\",\"será\",\"nós\",\"tenho\",\"lhe\",\"deles\",\"essas\",\"esses\",\"pelas\",\"este\",\"fosse\",\"dele\",\"tu\",\"te\",\"vocês\",\"vos\",\"lhes\",\"meus\",\"minhas\",\"teu\",\"tua\",\"teus\",\"tuas\",\"nosso\",\"nossa\",\"nossos\",\"nossas\",\"dela\",\"delas\",\"esta\",\"estes\",\"estas\",\"aquele\",\"aquela\",\"aqueles\",\"aquelas\",\"isto\",\"aquilo\",\"estou\",\"está\",\"estamos\",\"estão\",\"estive\",\"esteve\",\"estivemos\",\"estiveram\",\"estava\",\"estávamos\",\"estavam\",\"estivera\",\"estivéramos\",\"esteja\",\"estejamos\",\"estejam\",\"estivesse\",\"estivéssemos\",\"estivessem\",\"estiver\",\"estivermos\",\"estiverem\",\"hei\",\"há\",\"havemos\",\"hão\",\"houve\",\"houvemos\",\"houveram\",\"houvera\",\"houvéramos\",\"haja\",\"hajamos\",\"hajam\",\"houvesse\",\"houvéssemos\",\"houvessem\",\"houver\",\"houvermos\",\"houverem\",\"houverei\",\"houverá\",\"houveremos\",\"houverão\",\"houveria\",\"houveríamos\",\"houveriam\",\"sou\",\"somos\",\"são\",\"era\",\"éramos\",\"eram\",\"fui\",\"foi\",\"fomos\",\"foram\",\"fora\",\"fôramos\",\"seja\",\"sejamos\",\"sejam\",\"fosse\",\"fôssemos\",\"fossem\",\"for\",\"formos\",\"forem\",\"serei\",\"será\",\"seremos\",\"serão\",\"seria\",\"seríamos\",\"seriam\",\"tenho\",\"tem\",\"temos\",\"tém\",\"tinha\",\"tínhamos\",\"tinham\",\"tive\",\"teve\",\"tivemos\",\"tiveram\",\"tivera\",\"tivéramos\",\"tenha\",\"tenhamos\",\"tenham\",\"tivesse\",\"tivéssemos\",\"tivessem\",\"tiver\",\"tivermos\",\"tiverem\",\"terei\",\"terá\",\"teremos\",\"terão\",\"teria\",\"teríamos\",\"teriam\"\n",
    "    ])\n",
    "\n",
    "def normaliza(text):\n",
    "    return remove_stop_words(remove_pontuacoes(text.lower()))\n",
    "\n",
    "normaliza(msg)\n"
   ]
  }
 ],
 "metadata": {
  "kernelspec": {
   "display_name": "Python 3 (ipykernel)",
   "language": "python",
   "name": "python3"
  },
  "vscode": {
   "interpreter": {
    "hash": "26de051ba29f2982a8de78e945f0abaf191376122a1563185a90213a26c5da77"
   }
  }
 },
 "nbformat": 4,
 "nbformat_minor": 5
}
