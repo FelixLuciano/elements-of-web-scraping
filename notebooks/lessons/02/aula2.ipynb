{
 "cells": [
  {
   "cell_type": "markdown",
   "id": "dense-buffer",
   "metadata": {
    "id": "dense-buffer"
   },
   "source": [
    "# Análise de texto de fontes desestruturadas e Web\n",
    "\n",
    "## Aula 02 - PDFs\n",
    "\n",
    "Nesta aula iremos trabalhar com extração de informações a partir de PDFs utilizando bibliotecas do Python.\n",
    "\n",
    "## O que são arquivos PDF?\n",
    "\n",
    "O PDF, ou *Portable Document Format*, é um formato de arquivo criado pela Adobe em 1993. O principal objetivo em utilizar um PDF envolve permitir que um documento seja lido de forma independente do hardware ou sistema operacional utilizado pelo usuário. Também, sem a necessidade de possuir instalado o programa utilizado para criar o documento.\n",
    "\n",
    "<img src=\"https://atd-insper.s3.us-east-2.amazonaws.com/aula02/pdf_adobe.jpg\">\n",
    "\n",
    "Documentos PDF são padronizados conforme a ISO 32000. Os arquivos PDF geralmente incluem:\n",
    "- informações textuais\n",
    "- imagens vetoriais\n",
    "- imagens bitmap\n",
    "\n",
    "Eles são distribuídos principalmente com foco em leitura, ou seja, ao criar um DOC no Microsoft Word, repassamos o `arquivo.DOCX` para pessoas que necessitem editá-lo.\n",
    "\n",
    "Para as pessoas que apenas necessitam ler as informações do documento, transformamos o DOC em PDF e enviamos neste formato!\n",
    "\n",
    "\n",
    "## Qual a importância de extrair informações de PDFs?\n",
    "\n",
    "Arquivos PDF são criados com foco principal sendo a interação entre organizações e pessoas (uma cria, a outra lê).\n",
    "\n",
    "Em um cenário ideal, as informações contidas no PDF também estariam disponíveis em um ambiente estruturado e de fácil recuperação (ex: sistema de gerenciamento de banco de dados). Entretanto, muitas vezes a única forma disponível para acessos aos dados é o próprio arquivo PDF, por exemplo: editais, relatórios governamentais, lista de lojas, relatórios de desempenho, etc.\n",
    "\n",
    "Nesta aula, iremos aprender como extrair informações de PDFs, tabulares ou não. Além disso, veremos como utilizar recursos do Python para armazenar e analisar estes dados.\n",
    "\n",
    "## Biblioteca *camelot*\n",
    "Para os dados tabulares, a principal biblioteca que utilizaremos será a camelot (https://camelot-py.readthedocs.io/en/master/).\n",
    "Para utilizá-la, será necessário instalar algumas dependências. Como você está utilizando o **Google Colab**, execute os seguintes comandos (execute esta célula):"
   ]
  },
  {
   "cell_type": "code",
   "execution_count": null,
   "id": "dated-patrol",
   "metadata": {
    "id": "dated-patrol"
   },
   "outputs": [],
   "source": [
    "!pip install ghostscript\n",
    "!pip install camelot-py[cv]\n",
    "!pip install excalibur-py\n",
    "!pip install 'PyPDF2<3.0'\n",
    "!sudo apt update\n",
    "!sudo apt install ghostscript -y"
   ]
  },
  {
   "cell_type": "markdown",
   "id": "complicated-bathroom",
   "metadata": {
    "id": "complicated-bathroom"
   },
   "source": [
    "Lembra-se de executar o import novamente quando instalar bibliotecas!"
   ]
  },
  {
   "cell_type": "markdown",
   "id": "worst-pledge",
   "metadata": {
    "id": "worst-pledge"
   },
   "source": [
    "## Importando as bibliotecas necessárias\n",
    "\n",
    "Aqui, iremos importar as bibliotecas que utilizaremos na aula"
   ]
  },
  {
   "cell_type": "code",
   "execution_count": null,
   "id": "removable-trainer",
   "metadata": {
    "executionInfo": {
     "elapsed": 11876,
     "status": "ok",
     "timestamp": 1615495071808,
     "user": {
      "displayName": "Maciel Vidal",
      "photoUrl": "",
      "userId": "13915318131693393020"
     },
     "user_tz": 180
    },
    "id": "removable-trainer"
   },
   "outputs": [],
   "source": [
    "import os\n",
    "import pandas as pd\n",
    "import numpy as np\n",
    "import camelot\n",
    "import missingno as mn\n",
    "import seaborn as sb\n",
    "import plotly.express as px\n",
    "import matplotlib.pyplot as plt\n",
    "import matplotlib\n",
    "\n",
    "%matplotlib inline"
   ]
  },
  {
   "cell_type": "code",
   "execution_count": null,
   "id": "46c62723",
   "metadata": {},
   "outputs": [],
   "source": [
    "# !pip install plotly"
   ]
  },
  {
   "cell_type": "markdown",
   "id": "alert-person",
   "metadata": {
    "id": "alert-person"
   },
   "source": [
    "Caso obtenha algum erro, utilize o **!pip install** para instalar a biblioteca ausente!"
   ]
  },
  {
   "cell_type": "code",
   "execution_count": null,
   "id": "b3167cfb",
   "metadata": {},
   "outputs": [],
   "source": [
    "# Exemplo (remover # da proxima linha se preciso)\n",
    "!pip install missingno\n",
    "\n",
    "# libGl missing (https://github.com/opencv/opencv-python/issues/370#issuecomment-671202529)\n",
    "# !pip install opencv-python-headless"
   ]
  },
  {
   "cell_type": "markdown",
   "id": "ed591d7f",
   "metadata": {},
   "source": [
    "Vamos conferir em qual diretório estamos executando o notebook?"
   ]
  },
  {
   "cell_type": "code",
   "execution_count": null,
   "id": "executive-thanks",
   "metadata": {
    "colab": {
     "base_uri": "https://localhost:8080/"
    },
    "executionInfo": {
     "elapsed": 11868,
     "status": "ok",
     "timestamp": 1615495071809,
     "user": {
      "displayName": "Maciel Vidal",
      "photoUrl": "",
      "userId": "13915318131693393020"
     },
     "user_tz": 180
    },
    "id": "executive-thanks",
    "outputId": "11f1cbe0-65db-426f-8d47-10e78b664abb"
   },
   "outputs": [],
   "source": [
    "print('O seu notebook está no diretório')\n",
    "print(os.getcwd())"
   ]
  },
  {
   "cell_type": "markdown",
   "id": "conscious-mattress",
   "metadata": {
    "id": "conscious-mattress"
   },
   "source": [
    "\n",
    "## Lendo um PDF\n",
    "\n",
    "Para realizar a leitura dos dados tabulares, vamos utilizar a biblioteca **camelot**:"
   ]
  },
  {
   "cell_type": "code",
   "execution_count": null,
   "id": "talented-breach",
   "metadata": {
    "colab": {
     "base_uri": "https://localhost:8080/"
    },
    "executionInfo": {
     "elapsed": 14557,
     "status": "ok",
     "timestamp": 1615495074509,
     "user": {
      "displayName": "Maciel Vidal",
      "photoUrl": "",
      "userId": "13915318131693393020"
     },
     "user_tz": 180
    },
    "id": "talented-breach",
    "outputId": "c5c902fb-be81-4127-ba91-1e88d59fafb5"
   },
   "outputs": [],
   "source": [
    "pdf_path = 'https://atd-insper.s3.us-east-2.amazonaws.com/aula02/stores.pdf'\n",
    "tabelas = camelot.read_pdf(pdf_path)\n",
    "tabelas"
   ]
  },
  {
   "cell_type": "markdown",
   "id": "applied-adams",
   "metadata": {
    "id": "applied-adams"
   },
   "source": [
    "Podemos ver que encontramos uma tabela no documento.\n",
    "\n",
    "Agora, vamos conferir o *parsing report* do *camelot* para esta tabela:"
   ]
  },
  {
   "cell_type": "code",
   "execution_count": null,
   "id": "velvet-vietnam",
   "metadata": {
    "colab": {
     "base_uri": "https://localhost:8080/"
    },
    "executionInfo": {
     "elapsed": 14549,
     "status": "ok",
     "timestamp": 1615495074510,
     "user": {
      "displayName": "Maciel Vidal",
      "photoUrl": "",
      "userId": "13915318131693393020"
     },
     "user_tz": 180
    },
    "id": "velvet-vietnam",
    "outputId": "ec39f83d-0b20-4687-b155-b392175f5227"
   },
   "outputs": [],
   "source": [
    "print(tabelas[0].parsing_report)"
   ]
  },
  {
   "cell_type": "markdown",
   "id": "italian-feelings",
   "metadata": {
    "id": "italian-feelings"
   },
   "source": [
    "E podemos obter um *DataFrame* do *pandas* com os dados desta tabela:\n",
    "\n",
    "Depois iremos aprender o que mais podemos fazer com este DataFrame!"
   ]
  },
  {
   "cell_type": "code",
   "execution_count": null,
   "id": "sunset-transport",
   "metadata": {
    "colab": {
     "base_uri": "https://localhost:8080/",
     "height": 1000
    },
    "executionInfo": {
     "elapsed": 14541,
     "status": "ok",
     "timestamp": 1615495074512,
     "user": {
      "displayName": "Maciel Vidal",
      "photoUrl": "",
      "userId": "13915318131693393020"
     },
     "user_tz": 180
    },
    "id": "sunset-transport",
    "outputId": "5c8a0fbb-b9d8-4912-ee62-633fd2a676c7"
   },
   "outputs": [],
   "source": [
    "df = tabelas[0].df\n",
    "df"
   ]
  },
  {
   "cell_type": "markdown",
   "id": "alien-triple",
   "metadata": {
    "id": "alien-triple"
   },
   "source": [
    "A funcionalidade de *read_pdf* do *camelot* permite especificar diversos parâmetros. Por exemplo, podemos ler apenas a página 2:"
   ]
  },
  {
   "cell_type": "code",
   "execution_count": null,
   "id": "handed-horse",
   "metadata": {
    "colab": {
     "base_uri": "https://localhost:8080/",
     "height": 1000
    },
    "executionInfo": {
     "elapsed": 16738,
     "status": "ok",
     "timestamp": 1615495076720,
     "user": {
      "displayName": "Maciel Vidal",
      "photoUrl": "",
      "userId": "13915318131693393020"
     },
     "user_tz": 180
    },
    "id": "handed-horse",
    "outputId": "8590614d-955c-442a-df9b-98f3a2f5c6eb"
   },
   "outputs": [],
   "source": [
    "pdf_path = 'https://atd-insper.s3.us-east-2.amazonaws.com/aula02/stores.pdf'\n",
    "tabelas = camelot.read_pdf(pdf_path, pages = '2')\n",
    "df_pg2 = tabelas[0].df\n",
    "df_pg2"
   ]
  },
  {
   "cell_type": "markdown",
   "id": "human-bangkok",
   "metadata": {
    "id": "human-bangkok"
   },
   "source": [
    "# Múltiplas tabelas em um mesmo arquivo\n",
    "\n",
    "Imagem de exemplo com múltiplas tabelas em uma mesma página:\n",
    "<img src=\"https://atd-insper.s3.us-east-2.amazonaws.com/aula02/relatorio_aula02.png\">"
   ]
  },
  {
   "cell_type": "code",
   "execution_count": null,
   "id": "impaired-sympathy",
   "metadata": {
    "colab": {
     "base_uri": "https://localhost:8080/"
    },
    "executionInfo": {
     "elapsed": 18831,
     "status": "ok",
     "timestamp": 1615495078824,
     "user": {
      "displayName": "Maciel Vidal",
      "photoUrl": "",
      "userId": "13915318131693393020"
     },
     "user_tz": 180
    },
    "id": "impaired-sympathy",
    "outputId": "22df7bb4-0af0-4790-b1af-53603f70cb97"
   },
   "outputs": [],
   "source": [
    "pdf_path = 'https://atd-insper.s3.us-east-2.amazonaws.com/aula02/relatorio.pdf'\n",
    "tab_rep = camelot.read_pdf(pdf_path)\n",
    "tab_rep"
   ]
  },
  {
   "cell_type": "markdown",
   "id": "convinced-setting",
   "metadata": {
    "id": "convinced-setting"
   },
   "source": [
    "Podemos perceber que foram encontradas duas tabelas no arquivo."
   ]
  },
  {
   "cell_type": "code",
   "execution_count": null,
   "id": "fossil-soviet",
   "metadata": {
    "colab": {
     "base_uri": "https://localhost:8080/",
     "height": 173
    },
    "executionInfo": {
     "elapsed": 18823,
     "status": "ok",
     "timestamp": 1615495078827,
     "user": {
      "displayName": "Maciel Vidal",
      "photoUrl": "",
      "userId": "13915318131693393020"
     },
     "user_tz": 180
    },
    "id": "fossil-soviet",
    "outputId": "7f477ceb-fb20-43a1-89f4-57070bc6bb86"
   },
   "outputs": [],
   "source": [
    "df_relat1 = tab_rep[0].df\n",
    "df_relat1"
   ]
  },
  {
   "cell_type": "code",
   "execution_count": null,
   "id": "agricultural-registration",
   "metadata": {
    "colab": {
     "base_uri": "https://localhost:8080/",
     "height": 452
    },
    "executionInfo": {
     "elapsed": 18813,
     "status": "ok",
     "timestamp": 1615495078828,
     "user": {
      "displayName": "Maciel Vidal",
      "photoUrl": "",
      "userId": "13915318131693393020"
     },
     "user_tz": 180
    },
    "id": "agricultural-registration",
    "outputId": "14c897aa-e7ba-44a2-acc7-42b05d6f384b"
   },
   "outputs": [],
   "source": [
    "df_relat2 = tab_rep[1].df\n",
    "df_relat2"
   ]
  },
  {
   "cell_type": "markdown",
   "id": "understood-motion",
   "metadata": {
    "id": "understood-motion"
   },
   "source": [
    "Utilizando o report gráfico para analisar as extrações:"
   ]
  },
  {
   "cell_type": "code",
   "execution_count": null,
   "id": "exceptional-metallic",
   "metadata": {
    "colab": {
     "base_uri": "https://localhost:8080/",
     "height": 265
    },
    "executionInfo": {
     "elapsed": 19441,
     "status": "ok",
     "timestamp": 1615495079467,
     "user": {
      "displayName": "Maciel Vidal",
      "photoUrl": "",
      "userId": "13915318131693393020"
     },
     "user_tz": 180
    },
    "id": "exceptional-metallic",
    "outputId": "4489f48f-8efc-42db-ff65-1bba070fce2b"
   },
   "outputs": [],
   "source": [
    "camelot.plot(tab_rep[1], kind='text').show()"
   ]
  },
  {
   "cell_type": "code",
   "execution_count": null,
   "id": "extraordinary-pharmacology",
   "metadata": {
    "colab": {
     "base_uri": "https://localhost:8080/",
     "height": 269
    },
    "executionInfo": {
     "elapsed": 20583,
     "status": "ok",
     "timestamp": 1615495080621,
     "user": {
      "displayName": "Maciel Vidal",
      "photoUrl": "",
      "userId": "13915318131693393020"
     },
     "user_tz": 180
    },
    "id": "extraordinary-pharmacology",
    "outputId": "a8dff05f-f550-4f14-c70f-229daae86f5d",
    "scrolled": true
   },
   "outputs": [],
   "source": [
    "camelot.plot(tab_rep[0], kind='contour').show()"
   ]
  },
  {
   "cell_type": "markdown",
   "id": "weighted-passenger",
   "metadata": {
    "id": "weighted-passenger"
   },
   "source": [
    "## Primeiro contato com o *pandas*\n",
    "\n",
    "Agora, vamos aprender como utilizar recursos da biblioteca *pandas*."
   ]
  },
  {
   "cell_type": "code",
   "execution_count": null,
   "id": "active-watson",
   "metadata": {
    "colab": {
     "base_uri": "https://localhost:8080/"
    },
    "executionInfo": {
     "elapsed": 24724,
     "status": "ok",
     "timestamp": 1615495084773,
     "user": {
      "displayName": "Maciel Vidal",
      "photoUrl": "",
      "userId": "13915318131693393020"
     },
     "user_tz": 180
    },
    "id": "active-watson",
    "outputId": "8f774f86-ead2-4745-8c02-3988bba5cf92"
   },
   "outputs": [],
   "source": [
    "pdf_path = 'https://atd-insper.s3.us-east-2.amazonaws.com/aula02/stores.pdf'\n",
    "tabelas = camelot.read_pdf(pdf_path, split_text=True, pages='1-end')\n",
    "tabelas"
   ]
  },
  {
   "cell_type": "code",
   "execution_count": null,
   "id": "informal-preliminary",
   "metadata": {
    "colab": {
     "base_uri": "https://localhost:8080/"
    },
    "executionInfo": {
     "elapsed": 24716,
     "status": "ok",
     "timestamp": 1615495084773,
     "user": {
      "displayName": "Maciel Vidal",
      "photoUrl": "",
      "userId": "13915318131693393020"
     },
     "user_tz": 180
    },
    "id": "informal-preliminary",
    "outputId": "7ebb80a9-df2d-49ab-c590-93baf5cd20da"
   },
   "outputs": [],
   "source": [
    "type(tabelas[0].df)"
   ]
  },
  {
   "cell_type": "markdown",
   "id": "constitutional-scheduling",
   "metadata": {
    "id": "constitutional-scheduling"
   },
   "source": [
    "Iremos concatenar dois DataFrames:"
   ]
  },
  {
   "cell_type": "code",
   "execution_count": null,
   "id": "ideal-split",
   "metadata": {
    "colab": {
     "base_uri": "https://localhost:8080/",
     "height": 419
    },
    "executionInfo": {
     "elapsed": 24710,
     "status": "ok",
     "timestamp": 1615495084775,
     "user": {
      "displayName": "Maciel Vidal",
      "photoUrl": "",
      "userId": "13915318131693393020"
     },
     "user_tz": 180
    },
    "id": "ideal-split",
    "outputId": "fb8ed588-7516-49d7-cfb5-559d0de425e7"
   },
   "outputs": [],
   "source": [
    "df = pd.concat([tabelas[0].df, tabelas[1].df])"
   ]
  },
  {
   "cell_type": "markdown",
   "id": "dying-bradley",
   "metadata": {
    "id": "dying-bradley"
   },
   "source": [
    "podemos exibir apenas o início do nosso DataFrame, para não ter a tela toda poluída com dados"
   ]
  },
  {
   "cell_type": "code",
   "execution_count": null,
   "id": "opponent-breakfast",
   "metadata": {
    "colab": {
     "base_uri": "https://localhost:8080/",
     "height": 204
    },
    "executionInfo": {
     "elapsed": 24702,
     "status": "ok",
     "timestamp": 1615495084776,
     "user": {
      "displayName": "Maciel Vidal",
      "photoUrl": "",
      "userId": "13915318131693393020"
     },
     "user_tz": 180
    },
    "id": "opponent-breakfast",
    "outputId": "c544d036-f40e-409b-ba0f-6bb1d07c4b64"
   },
   "outputs": [],
   "source": [
    "df.head()"
   ]
  },
  {
   "cell_type": "markdown",
   "id": "equipped-hybrid",
   "metadata": {
    "id": "equipped-hybrid"
   },
   "source": [
    "ou os últimos:"
   ]
  },
  {
   "cell_type": "code",
   "execution_count": null,
   "id": "internal-carbon",
   "metadata": {
    "colab": {
     "base_uri": "https://localhost:8080/",
     "height": 204
    },
    "executionInfo": {
     "elapsed": 24697,
     "status": "ok",
     "timestamp": 1615495084776,
     "user": {
      "displayName": "Maciel Vidal",
      "photoUrl": "",
      "userId": "13915318131693393020"
     },
     "user_tz": 180
    },
    "id": "internal-carbon",
    "outputId": "25c50152-f5f8-475e-cfbb-c2ffffca2343"
   },
   "outputs": [],
   "source": [
    "df.tail()"
   ]
  },
  {
   "cell_type": "markdown",
   "id": "driving-glory",
   "metadata": {
    "id": "driving-glory"
   },
   "source": [
    "é possível também especificar o número de linhas"
   ]
  },
  {
   "cell_type": "code",
   "execution_count": null,
   "id": "tutorial-individual",
   "metadata": {
    "colab": {
     "base_uri": "https://localhost:8080/",
     "height": 111
    },
    "executionInfo": {
     "elapsed": 24694,
     "status": "ok",
     "timestamp": 1615495084777,
     "user": {
      "displayName": "Maciel Vidal",
      "photoUrl": "",
      "userId": "13915318131693393020"
     },
     "user_tz": 180
    },
    "id": "tutorial-individual",
    "outputId": "b281a80d-4ca3-4653-d392-c22a9956d550"
   },
   "outputs": [],
   "source": [
    "df.head(2)"
   ]
  },
  {
   "cell_type": "markdown",
   "id": "analyzed-paste",
   "metadata": {
    "id": "analyzed-paste"
   },
   "source": [
    "Perceberam que o nome das colunas ficou na primeira linha?\n",
    "\n",
    "Vamos renomear as colunas do DataFrame:"
   ]
  },
  {
   "cell_type": "code",
   "execution_count": null,
   "id": "lesser-particle",
   "metadata": {
    "colab": {
     "base_uri": "https://localhost:8080/",
     "height": 142
    },
    "executionInfo": {
     "elapsed": 24690,
     "status": "ok",
     "timestamp": 1615495084777,
     "user": {
      "displayName": "Maciel Vidal",
      "photoUrl": "",
      "userId": "13915318131693393020"
     },
     "user_tz": 180
    },
    "id": "lesser-particle",
    "outputId": "d9e43408-df0e-4be9-9059-b61ef9ae0295"
   },
   "outputs": [],
   "source": [
    "df.columns = ['CodLoja', 'TipoLoja', 'Cidade', 'CustoOperacional','NumFunc', 'FatDia',\n",
    "              'NumClientesDia', 'CustoAquiPorCli', 'LojaPropria', 'VendeOnline', 'Perfil', 'LojaCentro']\n",
    "df.head(3)"
   ]
  },
  {
   "cell_type": "markdown",
   "id": "continuous-genius",
   "metadata": {
    "id": "continuous-genius"
   },
   "source": [
    "e agora vamos remover a primeira linha"
   ]
  },
  {
   "cell_type": "code",
   "execution_count": null,
   "id": "dynamic-formation",
   "metadata": {
    "colab": {
     "base_uri": "https://localhost:8080/",
     "height": 142
    },
    "executionInfo": {
     "elapsed": 24688,
     "status": "ok",
     "timestamp": 1615495084779,
     "user": {
      "displayName": "Maciel Vidal",
      "photoUrl": "",
      "userId": "13915318131693393020"
     },
     "user_tz": 180
    },
    "id": "dynamic-formation",
    "outputId": "6e33c1aa-3ff5-4616-d6af-82a6cd8c07d6"
   },
   "outputs": [],
   "source": [
    "df.drop(0, inplace=True)\n",
    "\n",
    "df.head(3)"
   ]
  },
  {
   "cell_type": "markdown",
   "id": "quality-department",
   "metadata": {
    "id": "quality-department"
   },
   "source": [
    "Agora, vamos conferir os tipos de dados das colunas."
   ]
  },
  {
   "cell_type": "code",
   "execution_count": null,
   "id": "referenced-crash",
   "metadata": {
    "colab": {
     "base_uri": "https://localhost:8080/"
    },
    "executionInfo": {
     "elapsed": 24684,
     "status": "ok",
     "timestamp": 1615495084779,
     "user": {
      "displayName": "Maciel Vidal",
      "photoUrl": "",
      "userId": "13915318131693393020"
     },
     "user_tz": 180
    },
    "id": "referenced-crash",
    "outputId": "a3f6006e-7be2-4493-fbc0-e6c9062c4115"
   },
   "outputs": [],
   "source": [
    "df.dtypes"
   ]
  },
  {
   "cell_type": "markdown",
   "id": "partial-update",
   "metadata": {
    "id": "partial-update"
   },
   "source": [
    "Vamos alterar as colunas numéricas:"
   ]
  },
  {
   "cell_type": "code",
   "execution_count": null,
   "id": "f8701a58",
   "metadata": {},
   "outputs": [],
   "source": [
    "df"
   ]
  },
  {
   "cell_type": "code",
   "execution_count": null,
   "id": "valid-theorem",
   "metadata": {
    "executionInfo": {
     "elapsed": 25261,
     "status": "ok",
     "timestamp": 1615495085361,
     "user": {
      "displayName": "Maciel Vidal",
      "photoUrl": "",
      "userId": "13915318131693393020"
     },
     "user_tz": 180
    },
    "id": "valid-theorem"
   },
   "outputs": [],
   "source": [
    "df['CustoOperacional'] = df['CustoOperacional'].str.replace(',','').astype(float)\n",
    "df['NumFunc'] = df['NumFunc'].astype(int)\n",
    "df['FatDia'] = df['FatDia'].str.replace(',','').astype(float)\n",
    "df['NumClientesDia'] = df['NumClientesDia'].astype(float)\n",
    "df['CustoAquiPorCli'] = df['CustoAquiPorCli'].astype(float)"
   ]
  },
  {
   "cell_type": "code",
   "execution_count": null,
   "id": "eligible-pontiac",
   "metadata": {
    "colab": {
     "base_uri": "https://localhost:8080/"
    },
    "executionInfo": {
     "elapsed": 25258,
     "status": "ok",
     "timestamp": 1615495085362,
     "user": {
      "displayName": "Maciel Vidal",
      "photoUrl": "",
      "userId": "13915318131693393020"
     },
     "user_tz": 180
    },
    "id": "eligible-pontiac",
    "outputId": "1807f156-e75b-46f9-bcd7-f281c90b4916"
   },
   "outputs": [],
   "source": [
    "df.dtypes"
   ]
  },
  {
   "cell_type": "markdown",
   "id": "industrial-harvey",
   "metadata": {
    "id": "industrial-harvey"
   },
   "source": [
    "Agora, vamos definir as variáveis categóricas:"
   ]
  },
  {
   "cell_type": "code",
   "execution_count": null,
   "id": "acquired-reliance",
   "metadata": {
    "executionInfo": {
     "elapsed": 25254,
     "status": "ok",
     "timestamp": 1615495085362,
     "user": {
      "displayName": "Maciel Vidal",
      "photoUrl": "",
      "userId": "13915318131693393020"
     },
     "user_tz": 180
    },
    "id": "acquired-reliance"
   },
   "outputs": [],
   "source": [
    "df['TipoLoja'] = df['TipoLoja'].astype('category')\n",
    "df['Cidade'] = df['Cidade'].astype('category')\n",
    "\n",
    "df['LojaPropria'] = df['LojaPropria'].astype('category')\n",
    "df['VendeOnline'] = df['VendeOnline'].astype('category')\n",
    "df['Perfil'] = df['Perfil'].astype('category')\n",
    "df['LojaCentro'] = df['LojaCentro'].astype('category')"
   ]
  },
  {
   "cell_type": "markdown",
   "id": "productive-valve",
   "metadata": {
    "id": "productive-valve"
   },
   "source": [
    "Assim, os tipos ficam:"
   ]
  },
  {
   "cell_type": "code",
   "execution_count": null,
   "id": "medical-package",
   "metadata": {
    "colab": {
     "base_uri": "https://localhost:8080/"
    },
    "executionInfo": {
     "elapsed": 25251,
     "status": "ok",
     "timestamp": 1615495085363,
     "user": {
      "displayName": "Maciel Vidal",
      "photoUrl": "",
      "userId": "13915318131693393020"
     },
     "user_tz": 180
    },
    "id": "medical-package",
    "outputId": "052ebfb8-2b32-4933-d897-627fb51b7bc8"
   },
   "outputs": [],
   "source": [
    "df.dtypes"
   ]
  },
  {
   "cell_type": "markdown",
   "id": "egyptian-graphic",
   "metadata": {
    "id": "egyptian-graphic"
   },
   "source": [
    "O que temos até agora?!"
   ]
  },
  {
   "cell_type": "code",
   "execution_count": null,
   "id": "caring-tiger",
   "metadata": {
    "colab": {
     "base_uri": "https://localhost:8080/",
     "height": 111
    },
    "executionInfo": {
     "elapsed": 25248,
     "status": "ok",
     "timestamp": 1615495085364,
     "user": {
      "displayName": "Maciel Vidal",
      "photoUrl": "",
      "userId": "13915318131693393020"
     },
     "user_tz": 180
    },
    "id": "caring-tiger",
    "outputId": "5a04f545-dcff-4726-a0d4-70b0cf0bc248"
   },
   "outputs": [],
   "source": [
    "df.head(2)"
   ]
  },
  {
   "cell_type": "markdown",
   "id": "valued-cooperative",
   "metadata": {
    "id": "valued-cooperative"
   },
   "source": [
    "Quantas linhas (registros) e colunas?"
   ]
  },
  {
   "cell_type": "code",
   "execution_count": null,
   "id": "large-professor",
   "metadata": {
    "colab": {
     "base_uri": "https://localhost:8080/"
    },
    "executionInfo": {
     "elapsed": 25245,
     "status": "ok",
     "timestamp": 1615495085365,
     "user": {
      "displayName": "Maciel Vidal",
      "photoUrl": "",
      "userId": "13915318131693393020"
     },
     "user_tz": 180
    },
    "id": "large-professor",
    "outputId": "52bca416-9b4c-45b6-ed67-44e80feabc5a"
   },
   "outputs": [],
   "source": [
    "df.shape"
   ]
  },
  {
   "cell_type": "markdown",
   "id": "medium-pharmacology",
   "metadata": {
    "id": "medium-pharmacology"
   },
   "source": [
    "### Filtrando dados\n",
    "Vamos aprender como selecionar apenas parte dos registros?\n",
    "\n",
    "Vamos selecionar apenas as lojas da cidade de São Paulo:"
   ]
  },
  {
   "cell_type": "code",
   "execution_count": null,
   "id": "elect-darwin",
   "metadata": {
    "colab": {
     "base_uri": "https://localhost:8080/",
     "height": 669
    },
    "executionInfo": {
     "elapsed": 25241,
     "status": "ok",
     "timestamp": 1615495085365,
     "user": {
      "displayName": "Maciel Vidal",
      "photoUrl": "",
      "userId": "13915318131693393020"
     },
     "user_tz": 180
    },
    "id": "elect-darwin",
    "outputId": "c67960d7-b8ff-41bd-a104-38176c0382ea"
   },
   "outputs": [],
   "source": [
    "df.loc[df[\"Cidade\"] == \"São Paulo\"]"
   ]
  },
  {
   "cell_type": "markdown",
   "id": "knowing-ecuador",
   "metadata": {
    "id": "knowing-ecuador"
   },
   "source": [
    "Agora, selecione apenas as lojas de Acessórios:"
   ]
  },
  {
   "cell_type": "code",
   "execution_count": null,
   "id": "imported-freight",
   "metadata": {
    "colab": {
     "base_uri": "https://localhost:8080/",
     "height": 1000
    },
    "executionInfo": {
     "elapsed": 25238,
     "status": "ok",
     "timestamp": 1615495085366,
     "user": {
      "displayName": "Maciel Vidal",
      "photoUrl": "",
      "userId": "13915318131693393020"
     },
     "user_tz": 180
    },
    "id": "imported-freight",
    "outputId": "7da1c094-774a-4e29-ca2a-c95bc43cc6fe"
   },
   "outputs": [],
   "source": [
    "df.loc[df['TipoLoja'] == 'Acessórios']"
   ]
  },
  {
   "cell_type": "markdown",
   "id": "following-adventure",
   "metadata": {
    "id": "following-adventure"
   },
   "source": [
    "Vamos trazer apenas as colunas TipoLoja e FatDia da cidade de São Paulo:"
   ]
  },
  {
   "cell_type": "code",
   "execution_count": null,
   "id": "attempted-institute",
   "metadata": {
    "colab": {
     "base_uri": "https://localhost:8080/",
     "height": 669
    },
    "executionInfo": {
     "elapsed": 25234,
     "status": "ok",
     "timestamp": 1615495085366,
     "user": {
      "displayName": "Maciel Vidal",
      "photoUrl": "",
      "userId": "13915318131693393020"
     },
     "user_tz": 180
    },
    "id": "attempted-institute",
    "outputId": "362b5fa2-ffe9-4e90-a674-030fd296a222"
   },
   "outputs": [],
   "source": [
    "filtro_linhas = df['Cidade'] == 'São Paulo'\n",
    "df.loc[filtro_linhas, ['TipoLoja', 'FatDia']]"
   ]
  },
  {
   "cell_type": "markdown",
   "id": "refined-identifier",
   "metadata": {
    "id": "refined-identifier"
   },
   "source": [
    "Agora, apenas as lojas com faturamento diário acima de 12.000,00:"
   ]
  },
  {
   "cell_type": "code",
   "execution_count": null,
   "id": "personal-neighbor",
   "metadata": {
    "colab": {
     "base_uri": "https://localhost:8080/",
     "height": 235
    },
    "executionInfo": {
     "elapsed": 25230,
     "status": "ok",
     "timestamp": 1615495085366,
     "user": {
      "displayName": "Maciel Vidal",
      "photoUrl": "",
      "userId": "13915318131693393020"
     },
     "user_tz": 180
    },
    "id": "personal-neighbor",
    "outputId": "aa9dd9b3-0016-461a-ffc6-11d55999c9f8"
   },
   "outputs": [],
   "source": [
    "df.loc[df['FatDia'] > 12_000]"
   ]
  },
  {
   "cell_type": "markdown",
   "id": "desperate-prisoner",
   "metadata": {
    "id": "desperate-prisoner"
   },
   "source": [
    "E as lojas de Acessórios que vendem até  3000?\n",
    "\n",
    "**Atenção!** Se está filtrando por duas colunas, sempre utilize parênteses para envolver os critérios `( ) & ( )`"
   ]
  },
  {
   "cell_type": "code",
   "execution_count": null,
   "id": "hawaiian-charge",
   "metadata": {
    "colab": {
     "base_uri": "https://localhost:8080/",
     "height": 297
    },
    "executionInfo": {
     "elapsed": 647,
     "status": "ok",
     "timestamp": 1615495214679,
     "user": {
      "displayName": "Maciel Vidal",
      "photoUrl": "",
      "userId": "13915318131693393020"
     },
     "user_tz": 180
    },
    "id": "hawaiian-charge",
    "outputId": "ab17912d-3d3c-4c0a-c791-3d29bc714b44"
   },
   "outputs": [],
   "source": [
    "df.loc[(df['FatDia'] <= 3_000) & (df['TipoLoja'] == 'Acessórios')]"
   ]
  },
  {
   "cell_type": "markdown",
   "id": "closed-executive",
   "metadata": {
    "id": "closed-executive"
   },
   "source": [
    "E somente as colunas Cidade e CustoOperacional, mas mantendo todas as linhas?"
   ]
  },
  {
   "cell_type": "code",
   "execution_count": null,
   "id": "sonic-shadow",
   "metadata": {
    "colab": {
     "base_uri": "https://localhost:8080/",
     "height": 419
    },
    "executionInfo": {
     "elapsed": 25952,
     "status": "ok",
     "timestamp": 1615495086096,
     "user": {
      "displayName": "Maciel Vidal",
      "photoUrl": "",
      "userId": "13915318131693393020"
     },
     "user_tz": 180
    },
    "id": "sonic-shadow",
    "outputId": "e8243d94-0836-4593-cff6-1fc325c1c89a"
   },
   "outputs": [],
   "source": [
    "df.loc[:, ['Cidade', 'CustoOperacional']]"
   ]
  },
  {
   "cell_type": "markdown",
   "id": "downtown-junction",
   "metadata": {
    "id": "downtown-junction"
   },
   "source": [
    "## Análise exploratória\n",
    "\n",
    "Agora, vamos utilizar alguns recursos de estatística e bibliotecas de visualização para conhecermos um pouco melhor os nossos dados."
   ]
  },
  {
   "cell_type": "markdown",
   "id": "diverse-alberta",
   "metadata": {
    "id": "diverse-alberta"
   },
   "source": [
    "### Verificando *missing values*\n",
    "\n",
    "É comum que as bases tenham valores faltantes. Vamos conferir se alguma coluna possui valores faltantes:"
   ]
  },
  {
   "cell_type": "code",
   "execution_count": null,
   "id": "fancy-float",
   "metadata": {
    "colab": {
     "base_uri": "https://localhost:8080/",
     "height": 419
    },
    "executionInfo": {
     "elapsed": 25947,
     "status": "ok",
     "timestamp": 1615495086096,
     "user": {
      "displayName": "Maciel Vidal",
      "photoUrl": "",
      "userId": "13915318131693393020"
     },
     "user_tz": 180
    },
    "id": "fancy-float",
    "outputId": "3f48c057-5a75-4c6f-9737-950735c20723",
    "scrolled": true
   },
   "outputs": [],
   "source": [
    "df"
   ]
  },
  {
   "cell_type": "markdown",
   "id": "promising-formula",
   "metadata": {
    "id": "promising-formula"
   },
   "source": [
    "Existe toda uma literatura e técnicas que podem ser utilizadas em *missing imputation*.\n",
    "\n",
    "Primeiro, vamos conferir se eles existem:"
   ]
  },
  {
   "cell_type": "code",
   "execution_count": null,
   "id": "automated-bahrain",
   "metadata": {
    "colab": {
     "base_uri": "https://localhost:8080/"
    },
    "executionInfo": {
     "elapsed": 25940,
     "status": "ok",
     "timestamp": 1615495086097,
     "user": {
      "displayName": "Maciel Vidal",
      "photoUrl": "",
      "userId": "13915318131693393020"
     },
     "user_tz": 180
    },
    "id": "automated-bahrain",
    "outputId": "69c736a8-d9c8-45e4-c871-fcef67a35395"
   },
   "outputs": [],
   "source": [
    "df.isna().sum()"
   ]
  },
  {
   "cell_type": "markdown",
   "id": "handy-pacific",
   "metadata": {
    "id": "handy-pacific"
   },
   "source": [
    "Estranho, não?\n",
    "\n",
    "Consegue identificar por que isto acontece?"
   ]
  },
  {
   "cell_type": "markdown",
   "id": "alive-membrane",
   "metadata": {
    "id": "alive-membrane"
   },
   "source": [
    "R:"
   ]
  },
  {
   "cell_type": "markdown",
   "id": "warming-marijuana",
   "metadata": {
    "id": "warming-marijuana"
   },
   "source": [
    "Vamos substituir as strings vazias por NaN (not a number)"
   ]
  },
  {
   "cell_type": "code",
   "execution_count": null,
   "id": "entitled-hearts",
   "metadata": {
    "executionInfo": {
     "elapsed": 25939,
     "status": "ok",
     "timestamp": 1615495086098,
     "user": {
      "displayName": "Maciel Vidal",
      "photoUrl": "",
      "userId": "13915318131693393020"
     },
     "user_tz": 180
    },
    "id": "entitled-hearts"
   },
   "outputs": [],
   "source": [
    "df.replace('', np.nan, inplace=True)"
   ]
  },
  {
   "cell_type": "code",
   "execution_count": null,
   "id": "novel-pricing",
   "metadata": {
    "colab": {
     "base_uri": "https://localhost:8080/"
    },
    "executionInfo": {
     "elapsed": 25932,
     "status": "ok",
     "timestamp": 1615495086098,
     "user": {
      "displayName": "Maciel Vidal",
      "photoUrl": "",
      "userId": "13915318131693393020"
     },
     "user_tz": 180
    },
    "id": "novel-pricing",
    "outputId": "0ef20f41-1764-4a32-deff-5a069c3088b6"
   },
   "outputs": [],
   "source": [
    "df.dtypes"
   ]
  },
  {
   "cell_type": "markdown",
   "id": "starting-occupation",
   "metadata": {
    "id": "starting-occupation"
   },
   "source": [
    "E contar os missings novamente:"
   ]
  },
  {
   "cell_type": "code",
   "execution_count": null,
   "id": "sweet-wrapping",
   "metadata": {
    "colab": {
     "base_uri": "https://localhost:8080/"
    },
    "executionInfo": {
     "elapsed": 25926,
     "status": "ok",
     "timestamp": 1615495086099,
     "user": {
      "displayName": "Maciel Vidal",
      "photoUrl": "",
      "userId": "13915318131693393020"
     },
     "user_tz": 180
    },
    "id": "sweet-wrapping",
    "outputId": "5b35875a-77bf-4fa7-d35c-c3af89339b9b"
   },
   "outputs": [],
   "source": [
    "df.isna().sum()"
   ]
  },
  {
   "cell_type": "markdown",
   "id": "plastic-circle",
   "metadata": {
    "id": "plastic-circle"
   },
   "source": [
    "Vamos utilizar a biblioteca *missingno* para produzir algo mais visual?!"
   ]
  },
  {
   "cell_type": "code",
   "execution_count": null,
   "id": "contemporary-quarterly",
   "metadata": {
    "colab": {
     "base_uri": "https://localhost:8080/",
     "height": 718
    },
    "executionInfo": {
     "elapsed": 26352,
     "status": "ok",
     "timestamp": 1615495086533,
     "user": {
      "displayName": "Maciel Vidal",
      "photoUrl": "",
      "userId": "13915318131693393020"
     },
     "user_tz": 180
    },
    "id": "contemporary-quarterly",
    "outputId": "643c65ca-bf01-4574-f53c-bbdc884e9d6c"
   },
   "outputs": [],
   "source": [
    "mn.matrix(df)"
   ]
  },
  {
   "cell_type": "markdown",
   "id": "enhanced-tournament",
   "metadata": {
    "id": "enhanced-tournament"
   },
   "source": [
    "Quais colunas possuem missings?"
   ]
  },
  {
   "attachments": {},
   "cell_type": "markdown",
   "id": "chronic-ecuador",
   "metadata": {
    "id": "chronic-ecuador"
   },
   "source": [
    "R: \"VendeOnline\" e \"LojaCentro\""
   ]
  },
  {
   "cell_type": "markdown",
   "id": "dirty-rough",
   "metadata": {
    "id": "dirty-rough"
   },
   "source": [
    "Como podemos corrigir?!"
   ]
  },
  {
   "attachments": {},
   "cell_type": "markdown",
   "id": "antique-prompt",
   "metadata": {
    "id": "antique-prompt"
   },
   "source": [
    "R: Substituindo os valores faltantes por `\"0\"` em ambos os casos"
   ]
  },
  {
   "cell_type": "markdown",
   "id": "unavailable-yacht",
   "metadata": {
    "id": "unavailable-yacht"
   },
   "source": [
    "Vamos remover de nossa análise a última coluna:"
   ]
  },
  {
   "cell_type": "code",
   "execution_count": null,
   "id": "preceding-victoria",
   "metadata": {
    "colab": {
     "base_uri": "https://localhost:8080/",
     "height": 204
    },
    "executionInfo": {
     "elapsed": 26344,
     "status": "ok",
     "timestamp": 1615495086534,
     "user": {
      "displayName": "Maciel Vidal",
      "photoUrl": "",
      "userId": "13915318131693393020"
     },
     "user_tz": 180
    },
    "id": "preceding-victoria",
    "outputId": "bfb5ff86-6248-4c11-ec11-5f97411c6278"
   },
   "outputs": [],
   "source": [
    "df.drop(\"LojaCentro\", axis=1, inplace=True)\n",
    "df.head()"
   ]
  },
  {
   "cell_type": "markdown",
   "id": "automatic-arizona",
   "metadata": {
    "id": "automatic-arizona"
   },
   "source": [
    "E arbitrariamente preencher os missings em VendeOnline com 1:"
   ]
  },
  {
   "cell_type": "code",
   "execution_count": null,
   "id": "round-relations",
   "metadata": {
    "executionInfo": {
     "elapsed": 26343,
     "status": "ok",
     "timestamp": 1615495086535,
     "user": {
      "displayName": "Maciel Vidal",
      "photoUrl": "",
      "userId": "13915318131693393020"
     },
     "user_tz": 180
    },
    "id": "round-relations"
   },
   "outputs": [],
   "source": [
    "df['VendeOnline'].fillna(\"1\", inplace=True)"
   ]
  },
  {
   "cell_type": "markdown",
   "id": "moved-increase",
   "metadata": {
    "id": "moved-increase"
   },
   "source": [
    "Conferindo os missings novamente:"
   ]
  },
  {
   "cell_type": "code",
   "execution_count": null,
   "id": "neutral-creek",
   "metadata": {
    "colab": {
     "base_uri": "https://localhost:8080/",
     "height": 718
    },
    "executionInfo": {
     "elapsed": 26830,
     "status": "ok",
     "timestamp": 1615495087030,
     "user": {
      "displayName": "Maciel Vidal",
      "photoUrl": "",
      "userId": "13915318131693393020"
     },
     "user_tz": 180
    },
    "id": "neutral-creek",
    "outputId": "4d0fa3ae-47c6-41f9-8d20-7d5b1281a7e0"
   },
   "outputs": [],
   "source": [
    "mn.matrix(df)"
   ]
  },
  {
   "cell_type": "markdown",
   "id": "mediterranean-movement",
   "metadata": {
    "id": "mediterranean-movement"
   },
   "source": [
    "### Ordenando os dados\n",
    "\n",
    "Como conseguimos ordenar os dados?"
   ]
  },
  {
   "cell_type": "code",
   "execution_count": null,
   "id": "greenhouse-gravity",
   "metadata": {
    "colab": {
     "base_uri": "https://localhost:8080/",
     "height": 419
    },
    "executionInfo": {
     "elapsed": 26821,
     "status": "ok",
     "timestamp": 1615495087030,
     "user": {
      "displayName": "Maciel Vidal",
      "photoUrl": "",
      "userId": "13915318131693393020"
     },
     "user_tz": 180
    },
    "id": "greenhouse-gravity",
    "outputId": "05a288d3-bddf-4e0e-afc4-26a507904378"
   },
   "outputs": [],
   "source": [
    "df.sort_values(by='Cidade')"
   ]
  },
  {
   "cell_type": "markdown",
   "id": "generous-rapid",
   "metadata": {
    "id": "generous-rapid"
   },
   "source": [
    "Será que conseguimos ordenar pelo faturamento em ordem crescente?"
   ]
  },
  {
   "cell_type": "code",
   "execution_count": null,
   "id": "inclusive-murder",
   "metadata": {
    "colab": {
     "base_uri": "https://localhost:8080/",
     "height": 419
    },
    "executionInfo": {
     "elapsed": 26812,
     "status": "ok",
     "timestamp": 1615495087031,
     "user": {
      "displayName": "Maciel Vidal",
      "photoUrl": "",
      "userId": "13915318131693393020"
     },
     "user_tz": 180
    },
    "id": "inclusive-murder",
    "outputId": "7502bfb8-5cfa-4638-f7d3-8c788932fbbe"
   },
   "outputs": [],
   "source": [
    "df.sort_values(by='FatDia', ascending=True)"
   ]
  },
  {
   "cell_type": "markdown",
   "id": "white-dance",
   "metadata": {
    "id": "white-dance"
   },
   "source": [
    "Será que conseguimos ordenar pelo faturamento em ordem decrescente?"
   ]
  },
  {
   "cell_type": "code",
   "execution_count": null,
   "id": "athletic-inventory",
   "metadata": {
    "colab": {
     "base_uri": "https://localhost:8080/",
     "height": 419
    },
    "executionInfo": {
     "elapsed": 26803,
     "status": "ok",
     "timestamp": 1615495087032,
     "user": {
      "displayName": "Maciel Vidal",
      "photoUrl": "",
      "userId": "13915318131693393020"
     },
     "user_tz": 180
    },
    "id": "athletic-inventory",
    "outputId": "aab4a305-b71e-426f-aea6-0672498ecab9"
   },
   "outputs": [],
   "source": [
    "df.sort_values(by='FatDia', ascending=False)"
   ]
  },
  {
   "cell_type": "markdown",
   "id": "original-title",
   "metadata": {
    "id": "original-title"
   },
   "source": [
    "### Criando tabelas de frequência\n",
    "\n",
    "Conseguimos contar as ocorrências? Por exemplo, e se quiséssemos saber quantas lojas existem em cada cidade?"
   ]
  },
  {
   "cell_type": "code",
   "execution_count": null,
   "id": "hollywood-welcome",
   "metadata": {
    "colab": {
     "base_uri": "https://localhost:8080/"
    },
    "executionInfo": {
     "elapsed": 26794,
     "status": "ok",
     "timestamp": 1615495087032,
     "user": {
      "displayName": "Maciel Vidal",
      "photoUrl": "",
      "userId": "13915318131693393020"
     },
     "user_tz": 180
    },
    "id": "hollywood-welcome",
    "outputId": "503ac480-8668-40b6-ab4a-80a9f7147c18"
   },
   "outputs": [],
   "source": [
    "df['Cidade'].value_counts()"
   ]
  },
  {
   "cell_type": "markdown",
   "id": "violent-motion",
   "metadata": {
    "id": "violent-motion"
   },
   "source": [
    "E se quisessemos saber a porcentagem de lojas em cada cidade?"
   ]
  },
  {
   "cell_type": "code",
   "execution_count": null,
   "id": "statewide-whale",
   "metadata": {
    "colab": {
     "base_uri": "https://localhost:8080/"
    },
    "executionInfo": {
     "elapsed": 26787,
     "status": "ok",
     "timestamp": 1615495087033,
     "user": {
      "displayName": "Maciel Vidal",
      "photoUrl": "",
      "userId": "13915318131693393020"
     },
     "user_tz": 180
    },
    "id": "statewide-whale",
    "outputId": "84ef0527-d450-4f6e-b20a-b74cc7aac7a6"
   },
   "outputs": [],
   "source": [
    "df['Cidade'].value_counts(normalize=True)"
   ]
  },
  {
   "cell_type": "markdown",
   "id": "liked-enlargement",
   "metadata": {
    "id": "liked-enlargement"
   },
   "source": [
    "**Exercício 1** Qual a porcentagem de lojas que são de Eletrônicos?"
   ]
  },
  {
   "cell_type": "code",
   "execution_count": null,
   "id": "thorough-gallery",
   "metadata": {
    "executionInfo": {
     "elapsed": 26785,
     "status": "ok",
     "timestamp": 1615495087033,
     "user": {
      "displayName": "Maciel Vidal",
      "photoUrl": "",
      "userId": "13915318131693393020"
     },
     "user_tz": 180
    },
    "id": "thorough-gallery"
   },
   "outputs": [],
   "source": [
    "TipoLoja_counts = df[\"TipoLoja\"].value_counts(normalize=True)\n",
    "TipoLoja_counts_eletronicos = TipoLoja_counts[\"Eletrônicos\"]\n",
    "\n",
    "f\"{TipoLoja_counts_eletronicos*100:.2f}% das lojas são de Eletrônicos.\""
   ]
  },
  {
   "cell_type": "markdown",
   "id": "intelligent-wealth",
   "metadata": {
    "id": "intelligent-wealth"
   },
   "source": [
    "**Exercício 2** Considerando apenas São Paulo, qual a porcentagem de lojas que são de Eletrônicos?"
   ]
  },
  {
   "cell_type": "code",
   "execution_count": null,
   "id": "minor-artist",
   "metadata": {
    "executionInfo": {
     "elapsed": 26784,
     "status": "ok",
     "timestamp": 1615495087034,
     "user": {
      "displayName": "Maciel Vidal",
      "photoUrl": "",
      "userId": "13915318131693393020"
     },
     "user_tz": 180
    },
    "id": "minor-artist"
   },
   "outputs": [],
   "source": [
    "TipoLoja_counts_sao_paulo = df.loc[df[\"Cidade\"] == \"São Paulo\", \"TipoLoja\"].value_counts(normalize=True)\n",
    "TipoLoja_counts_sao_paulo_eletronicos = TipoLoja_counts_sao_paulo[\"Eletrônicos\"]\n",
    "\n",
    "f\"{TipoLoja_counts_sao_paulo_eletronicos*100:.2f}% das lojas de São Paulo são de Eletrônicos.\""
   ]
  },
  {
   "cell_type": "markdown",
   "id": "normal-attention",
   "metadata": {
    "id": "normal-attention"
   },
   "source": [
    "Podemos exibir a tabela de frequências de forma gráfica?"
   ]
  },
  {
   "cell_type": "code",
   "execution_count": null,
   "id": "enabling-driving",
   "metadata": {
    "colab": {
     "base_uri": "https://localhost:8080/",
     "height": 345
    },
    "executionInfo": {
     "elapsed": 27011,
     "status": "ok",
     "timestamp": 1615495087270,
     "user": {
      "displayName": "Maciel Vidal",
      "photoUrl": "",
      "userId": "13915318131693393020"
     },
     "user_tz": 180
    },
    "id": "enabling-driving",
    "outputId": "d0c464e1-5b0f-4044-a67b-c548c541d6e4"
   },
   "outputs": [],
   "source": [
    "cont = df['Cidade'].value_counts(normalize=True)\n",
    "cont.plot.bar();"
   ]
  },
  {
   "cell_type": "code",
   "execution_count": null,
   "id": "official-collective",
   "metadata": {
    "colab": {
     "base_uri": "https://localhost:8080/"
    },
    "executionInfo": {
     "elapsed": 27003,
     "status": "ok",
     "timestamp": 1615495087270,
     "user": {
      "displayName": "Maciel Vidal",
      "photoUrl": "",
      "userId": "13915318131693393020"
     },
     "user_tz": 180
    },
    "id": "official-collective",
    "outputId": "10c4eba6-5b2f-4ea9-ac19-886195e43f5e"
   },
   "outputs": [],
   "source": [
    "cont"
   ]
  },
  {
   "cell_type": "code",
   "execution_count": null,
   "id": "unlimited-bread",
   "metadata": {
    "colab": {
     "base_uri": "https://localhost:8080/",
     "height": 173
    },
    "executionInfo": {
     "elapsed": 26995,
     "status": "ok",
     "timestamp": 1615495087271,
     "user": {
      "displayName": "Maciel Vidal",
      "photoUrl": "",
      "userId": "13915318131693393020"
     },
     "user_tz": 180
    },
    "id": "unlimited-bread",
    "outputId": "9e4599e7-0bcf-4d2d-807a-a28f7fb1e2e6"
   },
   "outputs": [],
   "source": [
    "cont.reset_index()"
   ]
  },
  {
   "cell_type": "code",
   "execution_count": null,
   "id": "introductory-cyprus",
   "metadata": {
    "colab": {
     "base_uri": "https://localhost:8080/",
     "height": 542
    },
    "executionInfo": {
     "elapsed": 28486,
     "status": "ok",
     "timestamp": 1615495088771,
     "user": {
      "displayName": "Maciel Vidal",
      "photoUrl": "",
      "userId": "13915318131693393020"
     },
     "user_tz": 180
    },
    "id": "introductory-cyprus",
    "outputId": "7d0d1338-64ee-44eb-fada-649209018e7f"
   },
   "outputs": [],
   "source": [
    "dados = cont.reset_index()\n",
    "\n",
    "px.bar(dados, x='index', y='Cidade',\n",
    "       color='index', labels={'index': 'Cidade'},\n",
    "       title='Freq. Loja por Cidade')"
   ]
  },
  {
   "cell_type": "markdown",
   "id": "urban-matter",
   "metadata": {
    "id": "urban-matter"
   },
   "source": [
    "### Medidas Resumo\n",
    "\n",
    "E se quiséssemos saber a média de faturamento por dia?"
   ]
  },
  {
   "cell_type": "code",
   "execution_count": null,
   "id": "reasonable-rainbow",
   "metadata": {
    "colab": {
     "base_uri": "https://localhost:8080/"
    },
    "executionInfo": {
     "elapsed": 28478,
     "status": "ok",
     "timestamp": 1615495088772,
     "user": {
      "displayName": "Maciel Vidal",
      "photoUrl": "",
      "userId": "13915318131693393020"
     },
     "user_tz": 180
    },
    "id": "reasonable-rainbow",
    "outputId": "bca87ea7-4ba7-4f8b-b936-6343ac963db5"
   },
   "outputs": [],
   "source": [
    "df['FatDia'].mean()"
   ]
  },
  {
   "cell_type": "markdown",
   "id": "handmade-edgar",
   "metadata": {
    "id": "handmade-edgar"
   },
   "source": [
    "E os valores máximo, mínimo e mediana?!"
   ]
  },
  {
   "cell_type": "code",
   "execution_count": null,
   "id": "floral-rachel",
   "metadata": {
    "colab": {
     "base_uri": "https://localhost:8080/"
    },
    "executionInfo": {
     "elapsed": 28468,
     "status": "ok",
     "timestamp": 1615495088772,
     "user": {
      "displayName": "Maciel Vidal",
      "photoUrl": "",
      "userId": "13915318131693393020"
     },
     "user_tz": 180
    },
    "id": "floral-rachel",
    "outputId": "35017ec5-3787-4b12-a73f-81d8c1221d73"
   },
   "outputs": [],
   "source": [
    "df['FatDia'].max()"
   ]
  },
  {
   "cell_type": "code",
   "execution_count": null,
   "id": "general-perception",
   "metadata": {
    "colab": {
     "base_uri": "https://localhost:8080/"
    },
    "executionInfo": {
     "elapsed": 28460,
     "status": "ok",
     "timestamp": 1615495088773,
     "user": {
      "displayName": "Maciel Vidal",
      "photoUrl": "",
      "userId": "13915318131693393020"
     },
     "user_tz": 180
    },
    "id": "general-perception",
    "outputId": "e6498b46-8535-44c6-d070-40cda1feb7f6"
   },
   "outputs": [],
   "source": [
    "df['FatDia'].min()"
   ]
  },
  {
   "cell_type": "code",
   "execution_count": null,
   "id": "relevant-baker",
   "metadata": {
    "colab": {
     "base_uri": "https://localhost:8080/"
    },
    "executionInfo": {
     "elapsed": 28452,
     "status": "ok",
     "timestamp": 1615495088773,
     "user": {
      "displayName": "Maciel Vidal",
      "photoUrl": "",
      "userId": "13915318131693393020"
     },
     "user_tz": 180
    },
    "id": "relevant-baker",
    "outputId": "09cddc73-d51f-4153-b8ac-b1a0e5674f24"
   },
   "outputs": [],
   "source": [
    "df['FatDia'].median()"
   ]
  },
  {
   "cell_type": "markdown",
   "id": "flying-highland",
   "metadata": {
    "id": "flying-highland"
   },
   "source": [
    "Podemos resumir estas estatísticas em um único comando:"
   ]
  },
  {
   "cell_type": "code",
   "execution_count": null,
   "id": "persistent-emperor",
   "metadata": {
    "colab": {
     "base_uri": "https://localhost:8080/",
     "height": 297
    },
    "executionInfo": {
     "elapsed": 28446,
     "status": "ok",
     "timestamp": 1615495088775,
     "user": {
      "displayName": "Maciel Vidal",
      "photoUrl": "",
      "userId": "13915318131693393020"
     },
     "user_tz": 180
    },
    "id": "persistent-emperor",
    "outputId": "446f45ec-bb1a-4cd2-d6ce-b8222495af3e"
   },
   "outputs": [],
   "source": [
    "df.describe()"
   ]
  },
  {
   "cell_type": "markdown",
   "id": "annoying-sperm",
   "metadata": {
    "id": "annoying-sperm"
   },
   "source": [
    "### Distribuição\n",
    "\n",
    "Faz sentido realizar uma contagem na variável de Faturamento?\n",
    "\n",
    "Podemos analisar a distribuição."
   ]
  },
  {
   "cell_type": "code",
   "execution_count": null,
   "id": "personalized-utilization",
   "metadata": {
    "colab": {
     "base_uri": "https://localhost:8080/",
     "height": 282
    },
    "executionInfo": {
     "elapsed": 28728,
     "status": "ok",
     "timestamp": 1615495089066,
     "user": {
      "displayName": "Maciel Vidal",
      "photoUrl": "",
      "userId": "13915318131693393020"
     },
     "user_tz": 180
    },
    "id": "personalized-utilization",
    "outputId": "649df6d6-51c6-4b1a-c446-50abb868bafd"
   },
   "outputs": [],
   "source": [
    "df['FatDia'].plot.hist();"
   ]
  },
  {
   "cell_type": "code",
   "execution_count": null,
   "id": "ideal-failing",
   "metadata": {
    "colab": {
     "base_uri": "https://localhost:8080/",
     "height": 282
    },
    "executionInfo": {
     "elapsed": 29067,
     "status": "ok",
     "timestamp": 1615495089415,
     "user": {
      "displayName": "Maciel Vidal",
      "photoUrl": "",
      "userId": "13915318131693393020"
     },
     "user_tz": 180
    },
    "id": "ideal-failing",
    "outputId": "486c35fe-aeb7-4d0e-b1c5-442d3ea0917e"
   },
   "outputs": [],
   "source": [
    "df['FatDia'].plot.hist(bins=8);"
   ]
  },
  {
   "cell_type": "code",
   "execution_count": null,
   "id": "flying-fortune",
   "metadata": {
    "colab": {
     "base_uri": "https://localhost:8080/",
     "height": 542
    },
    "executionInfo": {
     "elapsed": 29290,
     "status": "ok",
     "timestamp": 1615495089647,
     "user": {
      "displayName": "Maciel Vidal",
      "photoUrl": "",
      "userId": "13915318131693393020"
     },
     "user_tz": 180
    },
    "id": "flying-fortune",
    "outputId": "73530c93-2da4-49ba-ff2d-106f1190e6dc"
   },
   "outputs": [],
   "source": [
    "px.histogram(df['FatDia'],\n",
    "             labels={'value': 'Faturamento'},\n",
    "             title = 'Distribuição do faturamento')"
   ]
  },
  {
   "cell_type": "code",
   "execution_count": null,
   "id": "acknowledged-appeal",
   "metadata": {
    "colab": {
     "base_uri": "https://localhost:8080/",
     "height": 542
    },
    "executionInfo": {
     "elapsed": 29736,
     "status": "ok",
     "timestamp": 1615495090103,
     "user": {
      "displayName": "Maciel Vidal",
      "photoUrl": "",
      "userId": "13915318131693393020"
     },
     "user_tz": 180
    },
    "id": "acknowledged-appeal",
    "outputId": "f01f9e45-1783-4e5c-fdb5-a9df14d4d7c3"
   },
   "outputs": [],
   "source": [
    "df_hist = df.loc[:, ['TipoLoja', 'FatDia']]\n",
    "\n",
    "px.histogram(df_hist, x = 'FatDia',\n",
    "             color='TipoLoja', opacity=0.75)"
   ]
  },
  {
   "cell_type": "markdown",
   "id": "informational-deficit",
   "metadata": {
    "id": "informational-deficit"
   },
   "source": [
    "E como plotar diversos gráficos na mesma célula?"
   ]
  },
  {
   "cell_type": "code",
   "execution_count": null,
   "id": "hollywood-worker",
   "metadata": {
    "colab": {
     "base_uri": "https://localhost:8080/",
     "height": 441
    },
    "executionInfo": {
     "elapsed": 30600,
     "status": "ok",
     "timestamp": 1615495090977,
     "user": {
      "displayName": "Maciel Vidal",
      "photoUrl": "",
      "userId": "13915318131693393020"
     },
     "user_tz": 180
    },
    "id": "hollywood-worker",
    "outputId": "b28e5e20-30cb-489d-ef77-ba743adba10c"
   },
   "outputs": [],
   "source": [
    "fig = plt.figure(figsize=(10, 6))\n",
    "\n",
    "plt.subplot(2, 2, 1)\n",
    "df['FatDia'].plot.hist()\n",
    "plt.title('Faturamento Dia')\n",
    "\n",
    "plt.subplot(2, 2, 2)\n",
    "df['CustoOperacional'].plot.hist()\n",
    "plt.title('Custo Operacional')\n",
    "\n",
    "plt.subplot(2, 2, 3)\n",
    "df['NumClientesDia'].plot.hist()\n",
    "plt.title('Média Cliente por Dia')\n",
    "\n",
    "plt.subplot(2, 2, 4)\n",
    "df['CustoAquiPorCli'].plot.hist()\n",
    "plt.title('Custo médio Aquisição de Clientes')\n",
    "\n",
    "plt.tight_layout()\n",
    "plt.show()"
   ]
  },
  {
   "cell_type": "markdown",
   "id": "nasty-geography",
   "metadata": {
    "id": "nasty-geography"
   },
   "source": [
    "### Agrupamentos\n",
    "\n",
    "Como podemos descobrir o Faturamento médio?"
   ]
  },
  {
   "cell_type": "code",
   "execution_count": null,
   "id": "charming-passage",
   "metadata": {
    "colab": {
     "base_uri": "https://localhost:8080/"
    },
    "executionInfo": {
     "elapsed": 30591,
     "status": "ok",
     "timestamp": 1615495090977,
     "user": {
      "displayName": "Maciel Vidal",
      "photoUrl": "",
      "userId": "13915318131693393020"
     },
     "user_tz": 180
    },
    "id": "charming-passage",
    "outputId": "18c83998-c209-4471-f2fd-f14ae8b22ca5"
   },
   "outputs": [],
   "source": [
    "df['FatDia'].mean()"
   ]
  },
  {
   "cell_type": "markdown",
   "id": "secure-minute",
   "metadata": {
    "id": "secure-minute"
   },
   "source": [
    "E para descobrir o faturamento médio por Tipo de Loja?"
   ]
  },
  {
   "cell_type": "code",
   "execution_count": null,
   "id": "junior-louisiana",
   "metadata": {
    "colab": {
     "base_uri": "https://localhost:8080/"
    },
    "executionInfo": {
     "elapsed": 30583,
     "status": "ok",
     "timestamp": 1615495090978,
     "user": {
      "displayName": "Maciel Vidal",
      "photoUrl": "",
      "userId": "13915318131693393020"
     },
     "user_tz": 180
    },
    "id": "junior-louisiana",
    "outputId": "c66edaf1-d24c-41b3-9764-093d44db5afc"
   },
   "outputs": [],
   "source": [
    "group_df =  df.groupby(by='TipoLoja')['FatDia'].mean()\n",
    "group_df"
   ]
  },
  {
   "cell_type": "code",
   "execution_count": null,
   "id": "convertible-wonder",
   "metadata": {
    "colab": {
     "base_uri": "https://localhost:8080/",
     "height": 351
    },
    "executionInfo": {
     "elapsed": 30576,
     "status": "ok",
     "timestamp": 1615495090979,
     "user": {
      "displayName": "Maciel Vidal",
      "photoUrl": "",
      "userId": "13915318131693393020"
     },
     "user_tz": 180
    },
    "id": "convertible-wonder",
    "outputId": "8fb12330-b81c-4dad-8dc7-93372f1fdbce"
   },
   "outputs": [],
   "source": [
    "fig = plt.figure(figsize=(8, 4))\n",
    "group_df.plot.bar()\n",
    "plt.title('Faturamento médio porb Tipo de Loja')\n",
    "plt.show()"
   ]
  },
  {
   "cell_type": "markdown",
   "id": "geological-spoke",
   "metadata": {
    "id": "geological-spoke"
   },
   "source": [
    "**Exercício 3** Descubra o custo médio de aquisição de cliente para lojas que vendem e não vendem online."
   ]
  },
  {
   "cell_type": "code",
   "execution_count": null,
   "id": "sixth-recovery",
   "metadata": {
    "executionInfo": {
     "elapsed": 30574,
     "status": "ok",
     "timestamp": 1615495090980,
     "user": {
      "displayName": "Maciel Vidal",
      "photoUrl": "",
      "userId": "13915318131693393020"
     },
     "user_tz": 180
    },
    "id": "sixth-recovery"
   },
   "outputs": [],
   "source": [
    "df.groupby(\"VendeOnline\").mean(numeric_only=True)[\"CustoAquiPorCli\"]"
   ]
  },
  {
   "cell_type": "markdown",
   "id": "cloudy-whale",
   "metadata": {
    "id": "cloudy-whale"
   },
   "source": [
    "**Exercício 4** Descubra o faturamento médio para lojas que são e não são próprias."
   ]
  },
  {
   "cell_type": "code",
   "execution_count": null,
   "id": "49cf28c7",
   "metadata": {},
   "outputs": [],
   "source": [
    "df.loc[df[\"LojaPropria\"] == \"0\", \"FatDia\"].mean()"
   ]
  },
  {
   "cell_type": "markdown",
   "id": "convinced-speed",
   "metadata": {
    "id": "convinced-speed"
   },
   "source": [
    "### Tabelas cruzadas\n",
    "\n",
    "E se quiséssemos realizar contagens de forma a considerar duas variáveis. Por exemplo, contar por Venda Online e Tipo de Loja?\n",
    "\n",
    "Neste caso, temos uma situação de análise **bivariada** de variáveis qualitativas:"
   ]
  },
  {
   "cell_type": "code",
   "execution_count": null,
   "id": "bound-plymouth",
   "metadata": {
    "colab": {
     "base_uri": "https://localhost:8080/",
     "height": 173
    },
    "executionInfo": {
     "elapsed": 30563,
     "status": "ok",
     "timestamp": 1615495090981,
     "user": {
      "displayName": "Maciel Vidal",
      "photoUrl": "",
      "userId": "13915318131693393020"
     },
     "user_tz": 180
    },
    "id": "bound-plymouth",
    "outputId": "2270533c-0673-4d96-dabc-aca30a303504"
   },
   "outputs": [],
   "source": [
    "ct = pd.crosstab(df['TipoLoja'], df['VendeOnline'])\n",
    "ct"
   ]
  },
  {
   "cell_type": "markdown",
   "id": "ebe7e0b5",
   "metadata": {},
   "source": [
    "Podemos utilizar o **normalize** para normalizar para frequência relativa nas linhas, colunas ou toda a tabela cruzada.\n",
    "\n",
    "Veja mais na documentação https://pandas.pydata.org/docs/reference/api/pandas.crosstab.html"
   ]
  },
  {
   "cell_type": "code",
   "execution_count": null,
   "id": "compliant-sessions",
   "metadata": {
    "colab": {
     "base_uri": "https://localhost:8080/",
     "height": 173
    },
    "executionInfo": {
     "elapsed": 30845,
     "status": "ok",
     "timestamp": 1615495091273,
     "user": {
      "displayName": "Maciel Vidal",
      "photoUrl": "",
      "userId": "13915318131693393020"
     },
     "user_tz": 180
    },
    "id": "compliant-sessions",
    "outputId": "3c865286-4b09-4c92-aedf-59627a0aaad6"
   },
   "outputs": [],
   "source": [
    "ct = pd.crosstab(df['TipoLoja'], df['VendeOnline'], normalize='columns')\n",
    "ct"
   ]
  },
  {
   "cell_type": "markdown",
   "id": "overhead-pointer",
   "metadata": {
    "id": "overhead-pointer"
   },
   "source": [
    "Estes zeros e uns ficam estranhos, não?! Vamos renomear as categorias!"
   ]
  },
  {
   "cell_type": "code",
   "execution_count": null,
   "id": "compound-storage",
   "metadata": {
    "colab": {
     "base_uri": "https://localhost:8080/",
     "height": 204
    },
    "executionInfo": {
     "elapsed": 30837,
     "status": "ok",
     "timestamp": 1615495091274,
     "user": {
      "displayName": "Maciel Vidal",
      "photoUrl": "",
      "userId": "13915318131693393020"
     },
     "user_tz": 180
    },
    "id": "compound-storage",
    "outputId": "87f21545-ea93-419d-c3d5-dc9f8959514f"
   },
   "outputs": [],
   "source": [
    "df['VendeOnline'] = df['VendeOnline'].cat.rename_categories({'0': 'Não', '1': 'Sim'})\n",
    "df['LojaPropria'] = df['LojaPropria'].cat.rename_categories({'0': 'Não', '1': 'Sim'})\n",
    "df.head()"
   ]
  },
  {
   "cell_type": "markdown",
   "id": "pretty-receipt",
   "metadata": {
    "id": "pretty-receipt"
   },
   "source": [
    "Agora, o crosstab fica melhor:"
   ]
  },
  {
   "cell_type": "code",
   "execution_count": null,
   "id": "civil-queensland",
   "metadata": {
    "colab": {
     "base_uri": "https://localhost:8080/",
     "height": 173
    },
    "executionInfo": {
     "elapsed": 30829,
     "status": "ok",
     "timestamp": 1615495091275,
     "user": {
      "displayName": "Maciel Vidal",
      "photoUrl": "",
      "userId": "13915318131693393020"
     },
     "user_tz": 180
    },
    "id": "civil-queensland",
    "outputId": "a21e4f4f-ed78-4e19-a424-d55c17943efe"
   },
   "outputs": [],
   "source": [
    "# o parâmetro normalize pode ser index, columns ou all\n",
    "ct = pd.crosstab(df['TipoLoja'], df['VendeOnline'], normalize='columns')\n",
    "ct"
   ]
  },
  {
   "cell_type": "markdown",
   "id": "corporate-investor",
   "metadata": {
    "id": "corporate-investor"
   },
   "source": [
    "**Exercício 5** Crie:\n",
    "\n",
    "a) uma alternativa para analisar como os tipos de lojas se distribuem pelas cidades."
   ]
  },
  {
   "cell_type": "code",
   "execution_count": null,
   "id": "royal-retail",
   "metadata": {
    "executionInfo": {
     "elapsed": 30827,
     "status": "ok",
     "timestamp": 1615495091276,
     "user": {
      "displayName": "Maciel Vidal",
      "photoUrl": "",
      "userId": "13915318131693393020"
     },
     "user_tz": 180
    },
    "id": "royal-retail"
   },
   "outputs": [],
   "source": [
    "pd.crosstab(df['TipoLoja'], df['Cidade'], normalize=1)"
   ]
  },
  {
   "cell_type": "markdown",
   "id": "toxic-fusion",
   "metadata": {
    "id": "toxic-fusion"
   },
   "source": [
    "b) Dentre as lojas de Eletrônicos, qual a porcentagem das lojas que está localizada no Rio de Janeiro?"
   ]
  },
  {
   "attachments": {},
   "cell_type": "markdown",
   "id": "innocent-dispute",
   "metadata": {
    "id": "innocent-dispute"
   },
   "source": [
    "R: 8,6957%"
   ]
  },
  {
   "cell_type": "markdown",
   "id": "phantom-emergency",
   "metadata": {
    "id": "phantom-emergency"
   },
   "source": [
    "c) Dentre as lojas de Belo Horizonte, qual a porcentagem das lojas é do tipo Acessórios?"
   ]
  },
  {
   "attachments": {},
   "cell_type": "markdown",
   "id": "spare-performance",
   "metadata": {
    "id": "spare-performance"
   },
   "source": [
    "R: 42,8571%"
   ]
  },
  {
   "cell_type": "markdown",
   "id": "governing-passion",
   "metadata": {
    "id": "governing-passion"
   },
   "source": [
    "### Correlação entre variáveis\n",
    "\n",
    "Podemos analisar a correlação entre as variáveis utilizando uma funcionalide da biblioteca pandas:"
   ]
  },
  {
   "cell_type": "code",
   "execution_count": null,
   "id": "noticed-delicious",
   "metadata": {
    "colab": {
     "base_uri": "https://localhost:8080/",
     "height": 204
    },
    "executionInfo": {
     "elapsed": 30819,
     "status": "ok",
     "timestamp": 1615495091277,
     "user": {
      "displayName": "Maciel Vidal",
      "photoUrl": "",
      "userId": "13915318131693393020"
     },
     "user_tz": 180
    },
    "id": "noticed-delicious",
    "outputId": "4225c07e-d8cd-48db-e283-8b131a8acbfe"
   },
   "outputs": [],
   "source": [
    "df.corr()"
   ]
  },
  {
   "cell_type": "markdown",
   "id": "brutal-thirty",
   "metadata": {
    "id": "brutal-thirty"
   },
   "source": [
    "ou pelo uso da biblioteca seaborn:"
   ]
  },
  {
   "cell_type": "code",
   "execution_count": null,
   "id": "banner-wedding",
   "metadata": {
    "colab": {
     "base_uri": "https://localhost:8080/",
     "height": 365
    },
    "executionInfo": {
     "elapsed": 31513,
     "status": "ok",
     "timestamp": 1615495091980,
     "user": {
      "displayName": "Maciel Vidal",
      "photoUrl": "",
      "userId": "13915318131693393020"
     },
     "user_tz": 180
    },
    "id": "banner-wedding",
    "outputId": "c0d5edc4-71c9-488b-ef30-9e2f8da81679"
   },
   "outputs": [],
   "source": [
    "sb.heatmap(df.corr(numeric_only=True));"
   ]
  },
  {
   "cell_type": "markdown",
   "id": "transparent-aurora",
   "metadata": {
    "id": "transparent-aurora"
   },
   "source": [
    "Ou pelo plotly express:"
   ]
  },
  {
   "cell_type": "code",
   "execution_count": null,
   "id": "surgical-climate",
   "metadata": {
    "colab": {
     "base_uri": "https://localhost:8080/",
     "height": 542
    },
    "executionInfo": {
     "elapsed": 31837,
     "status": "ok",
     "timestamp": 1615495092314,
     "user": {
      "displayName": "Maciel Vidal",
      "photoUrl": "",
      "userId": "13915318131693393020"
     },
     "user_tz": 180
    },
    "id": "surgical-climate",
    "outputId": "2c5da910-3509-4e2c-ba18-efc5181607ca"
   },
   "outputs": [],
   "source": [
    "px.imshow(df.corr(numeric_only=True))"
   ]
  },
  {
   "cell_type": "markdown",
   "id": "expected-integration",
   "metadata": {
    "id": "expected-integration"
   },
   "source": [
    "### Pivot Table\n",
    "\n",
    "E se for necessário descobrir o faturamento médio de cada tipo de loja em cada cidade?"
   ]
  },
  {
   "cell_type": "code",
   "execution_count": null,
   "id": "effective-evidence",
   "metadata": {
    "colab": {
     "base_uri": "https://localhost:8080/",
     "height": 204
    },
    "executionInfo": {
     "elapsed": 31828,
     "status": "ok",
     "timestamp": 1615495092315,
     "user": {
      "displayName": "Maciel Vidal",
      "photoUrl": "",
      "userId": "13915318131693393020"
     },
     "user_tz": 180
    },
    "id": "effective-evidence",
    "outputId": "7ff22ee8-9776-4c97-c6db-4c5bea975f94"
   },
   "outputs": [],
   "source": [
    "pivot = pd.pivot_table(df, index='TipoLoja', columns='Cidade',\n",
    "               values=['FatDia'], aggfunc=np.mean)\n",
    "\n",
    "pivot"
   ]
  },
  {
   "cell_type": "code",
   "execution_count": null,
   "id": "appointed-birth",
   "metadata": {
    "colab": {
     "base_uri": "https://localhost:8080/",
     "height": 368
    },
    "executionInfo": {
     "elapsed": 32197,
     "status": "ok",
     "timestamp": 1615495092693,
     "user": {
      "displayName": "Maciel Vidal",
      "photoUrl": "",
      "userId": "13915318131693393020"
     },
     "user_tz": 180
    },
    "id": "appointed-birth",
    "outputId": "0b1fdbae-5543-495e-c57a-ee0d61c3d9a1"
   },
   "outputs": [],
   "source": [
    "fig = plt.figure(figsize=(18, 5))\n",
    "pivot.plot.bar()\n",
    "plt.title('Faturameto médio por categoria e cidade')\n",
    "plt.show()"
   ]
  },
  {
   "cell_type": "code",
   "execution_count": null,
   "id": "hired-table",
   "metadata": {
    "colab": {
     "base_uri": "https://localhost:8080/",
     "height": 421
    },
    "executionInfo": {
     "elapsed": 32189,
     "status": "ok",
     "timestamp": 1615495092695,
     "user": {
      "displayName": "Maciel Vidal",
      "photoUrl": "",
      "userId": "13915318131693393020"
     },
     "user_tz": 180
    },
    "id": "hired-table",
    "outputId": "c2b5d030-7693-48ee-a3a5-7ee489df161b"
   },
   "outputs": [],
   "source": [
    "pivot_aux = pivot.unstack().reset_index()\n",
    "pivot_aux"
   ]
  },
  {
   "cell_type": "code",
   "execution_count": null,
   "id": "circular-gender",
   "metadata": {
    "colab": {
     "base_uri": "https://localhost:8080/",
     "height": 542
    },
    "executionInfo": {
     "elapsed": 32500,
     "status": "ok",
     "timestamp": 1615495093016,
     "user": {
      "displayName": "Maciel Vidal",
      "photoUrl": "",
      "userId": "13915318131693393020"
     },
     "user_tz": 180
    },
    "id": "circular-gender",
    "outputId": "15f569c7-a870-4921-bf4c-d4c013aee287"
   },
   "outputs": [],
   "source": [
    "px.bar(pivot_aux, x='Cidade', y=0, color='TipoLoja', barmode='group')"
   ]
  },
  {
   "cell_type": "code",
   "execution_count": null,
   "id": "multiple-michael",
   "metadata": {
    "colab": {
     "base_uri": "https://localhost:8080/",
     "height": 542
    },
    "executionInfo": {
     "elapsed": 32696,
     "status": "ok",
     "timestamp": 1615495093222,
     "user": {
      "displayName": "Maciel Vidal",
      "photoUrl": "",
      "userId": "13915318131693393020"
     },
     "user_tz": 180
    },
    "id": "multiple-michael",
    "outputId": "f77403ba-ffef-4c12-c4b0-e2ef49a126c6"
   },
   "outputs": [],
   "source": [
    "px.bar(pivot_aux, x='Cidade', y=0, color='TipoLoja', barmode='stack')"
   ]
  },
  {
   "cell_type": "markdown",
   "id": "limited-billy",
   "metadata": {
    "id": "limited-billy"
   },
   "source": [
    "### Criando colunas novas\n",
    "\n",
    "Como podemos fazer para entender o ticket médio? Temos a média de clientes por dia e o faturamento por dia. Como obter o ticket médio?"
   ]
  },
  {
   "cell_type": "code",
   "execution_count": null,
   "id": "terminal-marketplace",
   "metadata": {
    "colab": {
     "base_uri": "https://localhost:8080/",
     "height": 204
    },
    "executionInfo": {
     "elapsed": 32931,
     "status": "ok",
     "timestamp": 1615495093466,
     "user": {
      "displayName": "Maciel Vidal",
      "photoUrl": "",
      "userId": "13915318131693393020"
     },
     "user_tz": 180
    },
    "id": "terminal-marketplace",
    "outputId": "fc32121d-2884-4811-d539-c0a170a60d26"
   },
   "outputs": [],
   "source": [
    "df.head()"
   ]
  },
  {
   "cell_type": "code",
   "execution_count": null,
   "id": "intimate-excerpt",
   "metadata": {
    "colab": {
     "base_uri": "https://localhost:8080/",
     "height": 204
    },
    "executionInfo": {
     "elapsed": 32920,
     "status": "ok",
     "timestamp": 1615495093466,
     "user": {
      "displayName": "Maciel Vidal",
      "photoUrl": "",
      "userId": "13915318131693393020"
     },
     "user_tz": 180
    },
    "id": "intimate-excerpt",
    "outputId": "cf7e41e4-fc83-48e4-8c5c-b66b9b3e66ee"
   },
   "outputs": [],
   "source": [
    "df['TicketMedio'] = df['FatDia'] / df['NumClientesDia']\n",
    "df.head()"
   ]
  },
  {
   "cell_type": "markdown",
   "id": "confidential-wonder",
   "metadata": {
    "id": "confidential-wonder"
   },
   "source": [
    "E para criar categorias de custo? Abaixo de cinco mil é custo BAIXO, de cinco até oito é MÉDIO, acima de oito mil é ALTO?"
   ]
  },
  {
   "cell_type": "code",
   "execution_count": null,
   "id": "registered-baseball",
   "metadata": {
    "executionInfo": {
     "elapsed": 32918,
     "status": "ok",
     "timestamp": 1615495093467,
     "user": {
      "displayName": "Maciel Vidal",
      "photoUrl": "",
      "userId": "13915318131693393020"
     },
     "user_tz": 180
    },
    "id": "registered-baseball"
   },
   "outputs": [],
   "source": [
    "def cat_custo(valor):\n",
    "    if valor < 5000:\n",
    "        return 'BAIXO'\n",
    "    elif valor < 8000:\n",
    "        return 'MEDIO'\n",
    "    else:\n",
    "        return 'ALTO'"
   ]
  },
  {
   "cell_type": "code",
   "execution_count": null,
   "id": "about-keyboard",
   "metadata": {
    "colab": {
     "base_uri": "https://localhost:8080/",
     "height": 204
    },
    "executionInfo": {
     "elapsed": 32910,
     "status": "ok",
     "timestamp": 1615495093467,
     "user": {
      "displayName": "Maciel Vidal",
      "photoUrl": "",
      "userId": "13915318131693393020"
     },
     "user_tz": 180
    },
    "id": "about-keyboard",
    "outputId": "1fb2e950-8de9-4bd5-8747-f14a379c9f0e"
   },
   "outputs": [],
   "source": [
    "df['CatCusto'] = df['CustoOperacional'].apply(cat_custo)\n",
    "df.head()"
   ]
  },
  {
   "cell_type": "markdown",
   "id": "norman-collector",
   "metadata": {
    "id": "norman-collector"
   },
   "source": [
    "**Exercício 6** Conte quantas lojas estão em cada categoria de custo."
   ]
  },
  {
   "cell_type": "code",
   "execution_count": null,
   "id": "healthy-singles",
   "metadata": {
    "executionInfo": {
     "elapsed": 32908,
     "status": "ok",
     "timestamp": 1615495093468,
     "user": {
      "displayName": "Maciel Vidal",
      "photoUrl": "",
      "userId": "13915318131693393020"
     },
     "user_tz": 180
    },
    "id": "healthy-singles"
   },
   "outputs": [],
   "source": [
    "df[\"CatCusto\"].value_counts()"
   ]
  },
  {
   "cell_type": "markdown",
   "id": "decimal-pointer",
   "metadata": {
    "id": "decimal-pointer"
   },
   "source": [
    "**Exercício 7** Calcule o faturamento médio por Categoria de custo."
   ]
  },
  {
   "cell_type": "code",
   "execution_count": null,
   "id": "conditional-immune",
   "metadata": {
    "executionInfo": {
     "elapsed": 32906,
     "status": "ok",
     "timestamp": 1615495093468,
     "user": {
      "displayName": "Maciel Vidal",
      "photoUrl": "",
      "userId": "13915318131693393020"
     },
     "user_tz": 180
    },
    "id": "conditional-immune"
   },
   "outputs": [],
   "source": [
    "df.groupby(\"CatCusto\").mean(numeric_only=True)[\"FatDia\"]"
   ]
  },
  {
   "cell_type": "markdown",
   "id": "light-singles",
   "metadata": {
    "id": "light-singles"
   },
   "source": [
    "**Exercício 8** Cruze a categoria de custo com o tipo de loja para contar quantas estão em cada categoria conjunta."
   ]
  },
  {
   "cell_type": "code",
   "execution_count": null,
   "id": "statistical-marathon",
   "metadata": {
    "executionInfo": {
     "elapsed": 32906,
     "status": "ok",
     "timestamp": 1615495093469,
     "user": {
      "displayName": "Maciel Vidal",
      "photoUrl": "",
      "userId": "13915318131693393020"
     },
     "user_tz": 180
    },
    "id": "statistical-marathon"
   },
   "outputs": [],
   "source": [
    "pd.crosstab(df[\"CatCusto\"], df[\"TipoLoja\"])"
   ]
  },
  {
   "cell_type": "markdown",
   "id": "exempt-puppy",
   "metadata": {
    "id": "exempt-puppy"
   },
   "source": [
    "**Exercício 9** Cruze a categoria de custo com o tipo de loja, para descobrir o faturamento médio."
   ]
  },
  {
   "cell_type": "code",
   "execution_count": null,
   "id": "royal-above",
   "metadata": {
    "executionInfo": {
     "elapsed": 32904,
     "status": "ok",
     "timestamp": 1615495093469,
     "user": {
      "displayName": "Maciel Vidal",
      "photoUrl": "",
      "userId": "13915318131693393020"
     },
     "user_tz": 180
    },
    "id": "royal-above"
   },
   "outputs": [],
   "source": [
    "pd.crosstab(df[\"CatCusto\"], df[\"TipoLoja\"], values=df[\"FatDia\"], aggfunc=\"mean\")"
   ]
  },
  {
   "cell_type": "markdown",
   "id": "competent-impossible",
   "metadata": {
    "id": "competent-impossible"
   },
   "source": [
    "**Exercício 10** Sugira categorias para o número de funcionários e clientes. Analise o faturamento médio."
   ]
  },
  {
   "cell_type": "code",
   "execution_count": null,
   "id": "single-retention",
   "metadata": {
    "executionInfo": {
     "elapsed": 32903,
     "status": "ok",
     "timestamp": 1615495093470,
     "user": {
      "displayName": "Maciel Vidal",
      "photoUrl": "",
      "userId": "13915318131693393020"
     },
     "user_tz": 180
    },
    "id": "single-retention"
   },
   "outputs": [],
   "source": [
    "cross_func_clientes_faturamento_media = pd.crosstab(df[\"NumFunc\"], df[\"NumClientesDia\"], values=df[\"FatDia\"], aggfunc=\"mean\")\n",
    "\n",
    "sb.heatmap(cross_func_clientes_faturamento_media)"
   ]
  },
  {
   "cell_type": "code",
   "execution_count": null,
   "id": "07f71b84",
   "metadata": {},
   "outputs": [],
   "source": [
    "df[\"Rendimento\"] = df[\"FatDia\"] / (df[\"NumFunc\"] * df[\"NumClientesDia\"])\n",
    "\n",
    "sb.histplot(df[\"Rendimento\"])"
   ]
  },
  {
   "cell_type": "code",
   "execution_count": null,
   "id": "8051171d",
   "metadata": {},
   "outputs": [],
   "source": [
    "slice_rendimento_min = 5\n",
    "slice_rendimento_max = 200\n",
    "slice_rendimento = df.loc[(df[\"Rendimento\"] > 7) & (df[\"Rendimento\"] < 200), \"Rendimento\"]\n",
    "\n",
    "sb.histplot(slice_rendimento, bins=30)"
   ]
  },
  {
   "cell_type": "code",
   "execution_count": null,
   "id": "b58d29ac",
   "metadata": {},
   "outputs": [],
   "source": [
    "describe_rendimento = slice_rendimento.describe()\n",
    "describe_rendimento"
   ]
  },
  {
   "cell_type": "code",
   "execution_count": null,
   "id": "bc246f01",
   "metadata": {},
   "outputs": [],
   "source": [
    "def cat_rendimento(valor):\n",
    "    if valor < describe_rendimento[\"mean\"] - describe_rendimento[\"std\"]:\n",
    "        return 'BAIXO'\n",
    "    elif valor < describe_rendimento[\"mean\"] + describe_rendimento[\"std\"]:\n",
    "        return 'MEDIO'\n",
    "    else:\n",
    "        return 'ALTO'\n",
    "\n",
    "df['CatRendimento'] = df['Rendimento'].apply(cat_rendimento).astype(\"category\")\n",
    "df.head()"
   ]
  },
  {
   "cell_type": "markdown",
   "id": "political-yemen",
   "metadata": {
    "id": "political-yemen"
   },
   "source": [
    "**Exercício 11** Crie uma coluna de região geográfica."
   ]
  },
  {
   "cell_type": "markdown",
   "id": "shaped-antarctica",
   "metadata": {
    "id": "shaped-antarctica"
   },
   "source": [
    "# Exportar o DataFrame para arquivos\n",
    "\n",
    "Será que conseguimos exportar o pandas DataFrame para algum arquivo?\n",
    "\n",
    "Conseguimos sim!\n",
    "\n",
    "Para exportar para Excel:"
   ]
  },
  {
   "cell_type": "code",
   "execution_count": null,
   "id": "distinguished-spell",
   "metadata": {
    "executionInfo": {
     "elapsed": 33582,
     "status": "ok",
     "timestamp": 1615495094153,
     "user": {
      "displayName": "Maciel Vidal",
      "photoUrl": "",
      "userId": "13915318131693393020"
     },
     "user_tz": 180
    },
    "id": "distinguished-spell"
   },
   "outputs": [],
   "source": [
    "df.to_excel('lojas.xlsx')"
   ]
  },
  {
   "cell_type": "markdown",
   "id": "consistent-highland",
   "metadata": {
    "id": "consistent-highland"
   },
   "source": [
    "e para CSV:"
   ]
  },
  {
   "cell_type": "code",
   "execution_count": null,
   "id": "incoming-representation",
   "metadata": {
    "executionInfo": {
     "elapsed": 33582,
     "status": "ok",
     "timestamp": 1615495094155,
     "user": {
      "displayName": "Maciel Vidal",
      "photoUrl": "",
      "userId": "13915318131693393020"
     },
     "user_tz": 180
    },
    "id": "incoming-representation"
   },
   "outputs": [],
   "source": [
    "df.to_csv('lojas.csv')"
   ]
  },
  {
   "cell_type": "markdown",
   "id": "b7464b83",
   "metadata": {},
   "source": [
    "# Extração de textos com PyPDF2\n",
    "\n",
    "Caso o seu PDF contenha textos ao invés de tabelas, podemos utilizar o PyPDF2.\n",
    "\n",
    "Vamos importar a biblioteca:"
   ]
  },
  {
   "cell_type": "code",
   "execution_count": null,
   "id": "e5ac3014",
   "metadata": {},
   "outputs": [],
   "source": [
    "import PyPDF2 as pp\n",
    "import urllib.request"
   ]
  },
  {
   "cell_type": "markdown",
   "id": "65e02bc0",
   "metadata": {},
   "source": [
    "Caso o import não seja realizado, descomente a próxima linha e faça a instalação"
   ]
  },
  {
   "cell_type": "code",
   "execution_count": null,
   "id": "33b6d570",
   "metadata": {},
   "outputs": [],
   "source": [
    "# !pip install PyPDF2"
   ]
  },
  {
   "cell_type": "markdown",
   "id": "959a452d",
   "metadata": {},
   "source": [
    "Vamos fazer o download do arquivo PDF"
   ]
  },
  {
   "cell_type": "code",
   "execution_count": null,
   "id": "b7d58ed6",
   "metadata": {},
   "outputs": [],
   "source": [
    "pdf_url = 'https://atd-insper.s3.us-east-2.amazonaws.com/aula02/ppc_computacao.pdf'\n",
    "\n",
    "response = urllib.request.urlopen(pdf_url)\n",
    "\n",
    "arq = open('ppc_computacao.pdf', 'wb')\n",
    "arq.write(response.read())\n",
    "arq.close()"
   ]
  },
  {
   "cell_type": "markdown",
   "id": "8ebfddc1",
   "metadata": {},
   "source": [
    "e abrir o Arquivo"
   ]
  },
  {
   "cell_type": "code",
   "execution_count": null,
   "id": "8bd8f573",
   "metadata": {},
   "outputs": [],
   "source": [
    "pp_reader = pp.PdfFileReader(open('ppc_computacao.pdf', 'rb')) "
   ]
  },
  {
   "cell_type": "markdown",
   "id": "9c4930e1",
   "metadata": {},
   "source": [
    "Podemos buscar informações do documento, como o número de páginas"
   ]
  },
  {
   "cell_type": "code",
   "execution_count": null,
   "id": "3f38ce56",
   "metadata": {},
   "outputs": [],
   "source": [
    "pp_reader.documentInfo"
   ]
  },
  {
   "cell_type": "code",
   "execution_count": null,
   "id": "339e07b5",
   "metadata": {},
   "outputs": [],
   "source": [
    "print(f'O arquivo tem {pp_reader.numPages} páginas')"
   ]
  },
  {
   "cell_type": "markdown",
   "id": "7a381d49",
   "metadata": {},
   "source": [
    "Ou ler uma página específica do PDF"
   ]
  },
  {
   "cell_type": "code",
   "execution_count": null,
   "id": "afd12406",
   "metadata": {},
   "outputs": [],
   "source": [
    "texto = pp_reader.getPage(0).extractText()\n",
    "print(texto)"
   ]
  },
  {
   "cell_type": "markdown",
   "id": "fc742c62",
   "metadata": {},
   "source": [
    "Vamos ler as 10 primeiras páginas, armazenando cada página em uma lista"
   ]
  },
  {
   "cell_type": "code",
   "execution_count": null,
   "id": "8f207f5c",
   "metadata": {},
   "outputs": [],
   "source": [
    "lista_pg = []\n",
    "for i in range(10):\n",
    "    texto = pp_reader.getPage(i).extractText()\n",
    "    lista_pg.append(texto)"
   ]
  },
  {
   "cell_type": "markdown",
   "id": "64ee8272",
   "metadata": {},
   "source": [
    "Para uma melhor visualização, vamos podemos remover as quebras de linhas com **replace**"
   ]
  },
  {
   "cell_type": "code",
   "execution_count": null,
   "id": "80716723",
   "metadata": {},
   "outputs": [],
   "source": [
    "print(lista_pg[7].replace('\\n', ''))"
   ]
  },
  {
   "cell_type": "code",
   "execution_count": null,
   "id": "d2ec0da1",
   "metadata": {},
   "outputs": [],
   "source": [
    "lista_pg[7].count('sistemas')"
   ]
  },
  {
   "cell_type": "markdown",
   "id": "ee104651",
   "metadata": {},
   "source": [
    "**Exercício 12** Leia todas as páginas do PDF `ppc_computacao.pdf` e armazene o conteúdo em uma lista."
   ]
  },
  {
   "cell_type": "code",
   "execution_count": null,
   "id": "ae7ce6a8",
   "metadata": {},
   "outputs": [],
   "source": [
    "pages = [\n",
    "    pp_reader.getPage(index).extractText()\n",
    "    for index in range(pp_reader.numPages)\n",
    "]"
   ]
  },
  {
   "cell_type": "markdown",
   "id": "d2ac353b",
   "metadata": {},
   "source": [
    "**Exercício 13** Para cada página, faça algumas limpezas:\n",
    "- Remova stop-words\n",
    "- Remova quebras de linhas\n",
    "- Remova pontuações"
   ]
  },
  {
   "cell_type": "code",
   "execution_count": null,
   "id": "612c4981",
   "metadata": {},
   "outputs": [],
   "source": [
    "punctuation = [',', '.', '?', '!']\n",
    "\n",
    "\n",
    "def remove_words(text, words):\n",
    "    return \" \".join([word for word in text.split() if word not in words])\n",
    "\n",
    "def strip(text):\n",
    "    return text.strip().replace(\"\\n\", \"\")\n",
    "\n",
    "def remove_portuguese_punctuation(text):\n",
    "    for character in punctuation:\n",
    "        text = text.replace(character, \"\")\n",
    "\n",
    "    return text\n",
    "\n",
    "def remove_portuguese_stop_words(text):\n",
    "    return remove_words(text, [\n",
    "        \"de\",\"a\",\"o\",\"que\",\"e\",\"do\",\"da\",\"em\",\"um\",\"para\",\"é\",\"com\",\"não\",\"uma\",\"os\",\"no\",\"se\",\"na\",\"por\",\"mais\",\"as\",\"dos\",\"como\",\"mas\",\"foi\",\"ao\",\"ele\",\"das\",\"tem\",\"à\",\"seu\",\"sua\",\"ou\",\"ser\",\"quando\",\"muito\",\"há\",\"nos\",\"já\",\"está\",\"eu\",\"também\",\"só\",\"pelo\",\"pela\",\"até\",\"isso\",\"ela\",\"entre\",\"era\",\"depois\",\"sem\",\"mesmo\",\"aos\",\"ter\",\"seus\",\"quem\",\"nas\",\"me\",\"esse\",\"eles\",\"estão\",\"você\",\"tinha\",\"foram\",\"essa\",\"num\",\"nem\",\"suas\",\"meu\",\"às\",\"minha\",\"têm\",\"numa\",\"pelos\",\"elas\",\"havia\",\"seja\",\"qual\",\"será\",\"nós\",\"tenho\",\"lhe\",\"deles\",\"essas\",\"esses\",\"pelas\",\"este\",\"fosse\",\"dele\",\"tu\",\"te\",\"vocês\",\"vos\",\"lhes\",\"meus\",\"minhas\",\"teu\",\"tua\",\"teus\",\"tuas\",\"nosso\",\"nossa\",\"nossos\",\"nossas\",\"dela\",\"delas\",\"esta\",\"estes\",\"estas\",\"aquele\",\"aquela\",\"aqueles\",\"aquelas\",\"isto\",\"aquilo\",\"estou\",\"está\",\"estamos\",\"estão\",\"estive\",\"esteve\",\"estivemos\",\"estiveram\",\"estava\",\"estávamos\",\"estavam\",\"estivera\",\"estivéramos\",\"esteja\",\"estejamos\",\"estejam\",\"estivesse\",\"estivéssemos\",\"estivessem\",\"estiver\",\"estivermos\",\"estiverem\",\"hei\",\"há\",\"havemos\",\"hão\",\"houve\",\"houvemos\",\"houveram\",\"houvera\",\"houvéramos\",\"haja\",\"hajamos\",\"hajam\",\"houvesse\",\"houvéssemos\",\"houvessem\",\"houver\",\"houvermos\",\"houverem\",\"houverei\",\"houverá\",\"houveremos\",\"houverão\",\"houveria\",\"houveríamos\",\"houveriam\",\"sou\",\"somos\",\"são\",\"era\",\"éramos\",\"eram\",\"fui\",\"foi\",\"fomos\",\"foram\",\"fora\",\"fôramos\",\"seja\",\"sejamos\",\"sejam\",\"fosse\",\"fôssemos\",\"fossem\",\"for\",\"formos\",\"forem\",\"serei\",\"será\",\"seremos\",\"serão\",\"seria\",\"seríamos\",\"seriam\",\"tenho\",\"tem\",\"temos\",\"tém\",\"tinha\",\"tínhamos\",\"tinham\",\"tive\",\"teve\",\"tivemos\",\"tiveram\",\"tivera\",\"tivéramos\",\"tenha\",\"tenhamos\",\"tenham\",\"tivesse\",\"tivéssemos\",\"tivessem\",\"tiver\",\"tivermos\",\"tiverem\",\"terei\",\"terá\",\"teremos\",\"terão\",\"teria\",\"teríamos\",\"teriam\"\n",
    "    ])\n",
    "\n",
    "def normalize_text(text):\n",
    "    return remove_portuguese_stop_words(remove_portuguese_punctuation(strip(text.lower())))\n",
    "\n",
    "normalized_pages = list(map(normalize_text, pages))"
   ]
  },
  {
   "cell_type": "markdown",
   "id": "cda56611",
   "metadata": {},
   "source": [
    "**Exercício 14** Crie uma função que retorne todas as páginas do PDF `ppc_computacao.pdf` que contém uma determinada palavra passada como parâmetro"
   ]
  },
  {
   "cell_type": "code",
   "execution_count": null,
   "id": "d15b38ce",
   "metadata": {},
   "outputs": [],
   "source": [
    "def find(word):\n",
    "    return [\n",
    "        index\n",
    "        for index, page in enumerate(pages)\n",
    "        if word.lower() in page\n",
    "    ]\n",
    "\n",
    "find(\"Insper\")"
   ]
  },
  {
   "cell_type": "markdown",
   "id": "0e4416a2",
   "metadata": {},
   "source": [
    "**Exercício 15** Crie uma função que retorne todas as páginas onde uma palavra ou termo ocorre, além disso, deve retornar a quantidade.\n",
    "\n",
    "Dica: utilizar uma lista com tuplas ou dicionário."
   ]
  },
  {
   "cell_type": "code",
   "execution_count": null,
   "id": "783fe497",
   "metadata": {},
   "outputs": [],
   "source": [
    "def word_counts(word):\n",
    "    return {\n",
    "        index: page.count(word.lower())\n",
    "        for index, page in enumerate(pages)\n",
    "        if word.lower() in page\n",
    "    }\n",
    "\n",
    "word_counts(\"Computação\")"
   ]
  },
  {
   "cell_type": "markdown",
   "id": "ca23a3b8",
   "metadata": {},
   "source": [
    "# Alternativas:\n",
    "\n",
    "Algumas outras bibliotecas que podem ser utilizadas para extração de textos de PDFs:\n",
    "\n",
    "- tabula-py\n",
    "- tika\n",
    "- xpdf-python\n",
    "\n",
    "# Links interessantes da documentação do Camelot:\n",
    "- https://camelot-py.readthedocs.io/en/master/user/how-it-works.html#lattice\n",
    "- https://camelot-py.readthedocs.io/en/master/user/quickstart.html#read-the-pdf\n",
    "- https://camelot-py.readthedocs.io/en/master/user/advanced.html#detect-short-lines\n",
    "- https://camelot-py.readthedocs.io/en/master/user/faq.html#does-camelot-work-with-image-based-pdfs"
   ]
  }
 ],
 "metadata": {
  "colab": {
   "collapsed_sections": [],
   "name": "aula03_preenchido_googlecolab_camelot.ipynb",
   "provenance": []
  },
  "kernelspec": {
   "display_name": "Python 3 (ipykernel)",
   "language": "python",
   "name": "python3"
  },
  "language_info": {
   "codemirror_mode": {
    "name": "ipython",
    "version": 3
   },
   "file_extension": ".py",
   "mimetype": "text/x-python",
   "name": "python",
   "nbconvert_exporter": "python",
   "pygments_lexer": "ipython3",
   "version": "3.10.9"
  },
  "vscode": {
   "interpreter": {
    "hash": "26de051ba29f2982a8de78e945f0abaf191376122a1563185a90213a26c5da77"
   }
  }
 },
 "nbformat": 4,
 "nbformat_minor": 5
}
