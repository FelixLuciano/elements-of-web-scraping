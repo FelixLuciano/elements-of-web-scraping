{
 "cells": [
  {
   "cell_type": "code",
   "execution_count": 1,
   "metadata": {},
   "outputs": [],
   "source": [
    "import pandas as pd"
   ]
  },
  {
   "cell_type": "code",
   "execution_count": 3,
   "metadata": {},
   "outputs": [
    {
     "data": {
      "text/html": [
       "<div>\n",
       "<style scoped>\n",
       "    .dataframe tbody tr th:only-of-type {\n",
       "        vertical-align: middle;\n",
       "    }\n",
       "\n",
       "    .dataframe tbody tr th {\n",
       "        vertical-align: top;\n",
       "    }\n",
       "\n",
       "    .dataframe thead th {\n",
       "        text-align: right;\n",
       "    }\n",
       "</style>\n",
       "<table border=\"1\" class=\"dataframe\">\n",
       "  <thead>\n",
       "    <tr style=\"text-align: right;\">\n",
       "      <th></th>\n",
       "      <th>ID</th>\n",
       "      <th>Núcleos</th>\n",
       "      <th>Caudas</th>\n",
       "      <th>Cor</th>\n",
       "      <th>Membrana</th>\n",
       "      <th>Classe</th>\n",
       "    </tr>\n",
       "  </thead>\n",
       "  <tbody>\n",
       "    <tr>\n",
       "      <th>0</th>\n",
       "      <td>1</td>\n",
       "      <td>1</td>\n",
       "      <td>1</td>\n",
       "      <td>Clara</td>\n",
       "      <td>Fina</td>\n",
       "      <td>Lethaugica</td>\n",
       "    </tr>\n",
       "    <tr>\n",
       "      <th>1</th>\n",
       "      <td>2</td>\n",
       "      <td>2</td>\n",
       "      <td>1</td>\n",
       "      <td>Clara</td>\n",
       "      <td>Fina</td>\n",
       "      <td>Lethaugica</td>\n",
       "    </tr>\n",
       "    <tr>\n",
       "      <th>2</th>\n",
       "      <td>3</td>\n",
       "      <td>1</td>\n",
       "      <td>1</td>\n",
       "      <td>Clara</td>\n",
       "      <td>Grossa</td>\n",
       "      <td>Lethaugica</td>\n",
       "    </tr>\n",
       "    <tr>\n",
       "      <th>3</th>\n",
       "      <td>4</td>\n",
       "      <td>1</td>\n",
       "      <td>1</td>\n",
       "      <td>Escura</td>\n",
       "      <td>Fina</td>\n",
       "      <td>Lethaugica</td>\n",
       "    </tr>\n",
       "    <tr>\n",
       "      <th>4</th>\n",
       "      <td>5</td>\n",
       "      <td>1</td>\n",
       "      <td>1</td>\n",
       "      <td>Escura</td>\n",
       "      <td>Grossa</td>\n",
       "      <td>Lethaugica</td>\n",
       "    </tr>\n",
       "    <tr>\n",
       "      <th>5</th>\n",
       "      <td>6</td>\n",
       "      <td>2</td>\n",
       "      <td>2</td>\n",
       "      <td>Escura</td>\n",
       "      <td>Fina</td>\n",
       "      <td>Brutolina</td>\n",
       "    </tr>\n",
       "    <tr>\n",
       "      <th>6</th>\n",
       "      <td>7</td>\n",
       "      <td>2</td>\n",
       "      <td>2</td>\n",
       "      <td>Clara</td>\n",
       "      <td>Fina</td>\n",
       "      <td>Brutolina</td>\n",
       "    </tr>\n",
       "    <tr>\n",
       "      <th>7</th>\n",
       "      <td>8</td>\n",
       "      <td>2</td>\n",
       "      <td>2</td>\n",
       "      <td>Escura</td>\n",
       "      <td>Grossa</td>\n",
       "      <td>Brutolina</td>\n",
       "    </tr>\n",
       "    <tr>\n",
       "      <th>8</th>\n",
       "      <td>9</td>\n",
       "      <td>2</td>\n",
       "      <td>1</td>\n",
       "      <td>Escura</td>\n",
       "      <td>Grossa</td>\n",
       "      <td>Saudavel</td>\n",
       "    </tr>\n",
       "    <tr>\n",
       "      <th>9</th>\n",
       "      <td>10</td>\n",
       "      <td>2</td>\n",
       "      <td>1</td>\n",
       "      <td>Escura</td>\n",
       "      <td>Fina</td>\n",
       "      <td>Saudavel</td>\n",
       "    </tr>\n",
       "    <tr>\n",
       "      <th>10</th>\n",
       "      <td>11</td>\n",
       "      <td>1</td>\n",
       "      <td>2</td>\n",
       "      <td>Clara</td>\n",
       "      <td>Fina</td>\n",
       "      <td>Saudavel</td>\n",
       "    </tr>\n",
       "    <tr>\n",
       "      <th>11</th>\n",
       "      <td>12</td>\n",
       "      <td>1</td>\n",
       "      <td>2</td>\n",
       "      <td>Clara</td>\n",
       "      <td>Grossa</td>\n",
       "      <td>Saudavel</td>\n",
       "    </tr>\n",
       "  </tbody>\n",
       "</table>\n",
       "</div>"
      ],
      "text/plain": [
       "    ID  Núcleos  Caudas     Cor Membrana      Classe\n",
       "0    1        1       1   Clara     Fina  Lethaugica\n",
       "1    2        2       1   Clara     Fina  Lethaugica\n",
       "2    3        1       1   Clara   Grossa  Lethaugica\n",
       "3    4        1       1  Escura     Fina  Lethaugica\n",
       "4    5        1       1  Escura   Grossa  Lethaugica\n",
       "5    6        2       2  Escura     Fina   Brutolina\n",
       "6    7        2       2   Clara     Fina   Brutolina\n",
       "7    8        2       2  Escura   Grossa   Brutolina\n",
       "8    9        2       1  Escura   Grossa    Saudavel\n",
       "9   10        2       1  Escura     Fina    Saudavel\n",
       "10  11        1       2   Clara     Fina    Saudavel\n",
       "11  12        1       2   Clara   Grossa    Saudavel"
      ]
     },
     "execution_count": 3,
     "metadata": {},
     "output_type": "execute_result"
    }
   ],
   "source": [
    "df = pd.read_csv(\"bacteria.csv\", sep=\"\\t\")\n",
    "df"
   ]
  },
  {
   "cell_type": "code",
   "execution_count": 46,
   "metadata": {},
   "outputs": [
    {
     "data": {
      "text/plain": [
       "Núcleos  Classe    \n",
       "1        Lethaugica    0.666667\n",
       "         Saudavel      0.333333\n",
       "2        Brutolina     0.500000\n",
       "         Saudavel      0.333333\n",
       "         Lethaugica    0.166667\n",
       "dtype: float64"
      ]
     },
     "execution_count": 46,
     "metadata": {},
     "output_type": "execute_result"
    }
   ],
   "source": [
    "counts_nucleos = df.loc[:, (\"Núcleos\", \"Classe\")].groupby(\"Núcleos\").value_counts(normalize=True)\n",
    "counts_nucleos"
   ]
  },
  {
   "cell_type": "code",
   "execution_count": 47,
   "metadata": {},
   "outputs": [
    {
     "data": {
      "text/plain": [
       "Caudas  Classe    \n",
       "1       Lethaugica    0.714286\n",
       "        Saudavel      0.285714\n",
       "2       Brutolina     0.600000\n",
       "        Saudavel      0.400000\n",
       "dtype: float64"
      ]
     },
     "execution_count": 47,
     "metadata": {},
     "output_type": "execute_result"
    }
   ],
   "source": [
    "counts_caudas = df.loc[:, (\"Caudas\", \"Classe\")].groupby(\"Caudas\").value_counts(normalize=True)\n",
    "counts_caudas"
   ]
  },
  {
   "cell_type": "code",
   "execution_count": 48,
   "metadata": {},
   "outputs": [
    {
     "data": {
      "text/plain": [
       "Cor     Classe    \n",
       "Clara   Lethaugica    0.500000\n",
       "        Saudavel      0.333333\n",
       "        Brutolina     0.166667\n",
       "Escura  Brutolina     0.333333\n",
       "        Lethaugica    0.333333\n",
       "        Saudavel      0.333333\n",
       "dtype: float64"
      ]
     },
     "execution_count": 48,
     "metadata": {},
     "output_type": "execute_result"
    }
   ],
   "source": [
    "counts_cor = df.loc[:, (\"Cor\", \"Classe\")].groupby(\"Cor\").value_counts(normalize=True)\n",
    "counts_cor"
   ]
  },
  {
   "cell_type": "code",
   "execution_count": 49,
   "metadata": {},
   "outputs": [
    {
     "data": {
      "text/plain": [
       "Membrana  Classe    \n",
       "Fina      Lethaugica    0.428571\n",
       "          Brutolina     0.285714\n",
       "          Saudavel      0.285714\n",
       "Grossa    Lethaugica    0.400000\n",
       "          Saudavel      0.400000\n",
       "          Brutolina     0.200000\n",
       "dtype: float64"
      ]
     },
     "execution_count": 49,
     "metadata": {},
     "output_type": "execute_result"
    }
   ],
   "source": [
    "counts_membrana = df.loc[:, (\"Membrana\", \"Classe\")].groupby(\"Membrana\").value_counts(normalize=True)\n",
    "counts_membrana"
   ]
  },
  {
   "cell_type": "code",
   "execution_count": 63,
   "metadata": {},
   "outputs": [
    {
     "data": {
      "text/plain": [
       "('Lethaugica', 10.20408163265306)"
      ]
     },
     "execution_count": 63,
     "metadata": {},
     "output_type": "execute_result"
    }
   ],
   "source": [
    "result = counts_nucleos[1] * counts_caudas[1] * counts_cor[\"Clara\"] * counts_membrana[\"Fina\"]\n",
    "\n",
    "result.index[result.argmax()], result.max() * 100"
   ]
  },
  {
   "cell_type": "code",
   "execution_count": null,
   "metadata": {},
   "outputs": [],
   "source": []
  }
 ],
 "metadata": {
  "kernelspec": {
   "display_name": ".venv",
   "language": "python",
   "name": "python3"
  },
  "language_info": {
   "codemirror_mode": {
    "name": "ipython",
    "version": 3
   },
   "file_extension": ".py",
   "mimetype": "text/x-python",
   "name": "python",
   "nbconvert_exporter": "python",
   "pygments_lexer": "ipython3",
   "version": "3.10.8"
  },
  "orig_nbformat": 4
 },
 "nbformat": 4,
 "nbformat_minor": 2
}
