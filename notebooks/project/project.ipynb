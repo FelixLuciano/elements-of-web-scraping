{
 "cells": [
  {
   "attachments": {},
   "cell_type": "markdown",
   "metadata": {},
   "source": [
    "**Insper**  \n",
    "**Análise de Textos de Fontes Desestruturadas e WEB**\n",
    "\n",
    "# **Projeto: <SUBTÍTULO>**\n",
    "\n",
    "**Luciano Felix DIas**\n"
   ]
  },
  {
   "attachments": {},
   "cell_type": "markdown",
   "metadata": {},
   "source": [
    "## **1. Introdução**\n",
    "\n",
    "> Lorem ipsum dolor sit amet rebum blandit sit diam molestie ea. Erat elitr dolor magna erat velit sadipscing est. Sadipscing accusam elitr vel sea dolore at sed sed voluptua vero at no ut.\n",
    "\n",
    "Tation dolor suscipit lorem ipsum duo gubergren accusam lorem feugiat diam voluptua gubergren erat dolore diam qui. Eum voluptua consequat ipsum ipsum magna sadipscing sed sit aliquyam diam lorem accumsan consetetur justo aliquyam. Accusam molestie duo nonumy no clita eirmod elitr. Quis volutpat magna lorem vel molestie takimata vero justo eos ipsum tempor ipsum at consetetur exerci eirmod lorem aliquyam. Takimata sit ut aliquyam. Sed tempor consequat kasd molestie ea amet gubergren stet et amet amet stet invidunt euismod in dolore vero. Duis invidunt dolores vel. Vero et feugiat sea eirmod accusam. Sadipscing molestie voluptua rebum magna in dolore sit elitr ea in commodo. Lorem ad at minim et stet at velit clita ea eirmod clita et amet labore. Dolor at eos sit vero dolor sed tempor. Nonumy invidunt eirmod. Aliquam amet veniam et sadipscing takimata sit amet justo nisl at amet at aliquyam clita eirmod. In hendrerit autem blandit nonumy. Consequat labore rebum ipsum tempor eirmod placerat nonumy et te et dolore. Autem nonumy magna nonumy eirmod erat labore et ipsum et autem accusam consetetur. Duo erat minim.\n"
   ]
  },
  {
   "cell_type": "code",
   "execution_count": 4,
   "metadata": {},
   "outputs": [
    {
     "name": "stdout",
     "output_type": "stream",
     "text": [
      "Hello World!\n"
     ]
    }
   ],
   "source": [
    "from notebooks.project import lib\n",
    "\n",
    "lib.test()\n"
   ]
  }
 ],
 "metadata": {
  "kernelspec": {
   "display_name": "Python 3 (ipykernel)",
   "language": "python",
   "name": "python3"
  },
  "language_info": {
   "codemirror_mode": {
    "name": "ipython",
    "version": 3
   },
   "file_extension": ".py",
   "mimetype": "text/x-python",
   "name": "python",
   "nbconvert_exporter": "python",
   "pygments_lexer": "ipython3",
   "version": "3.10.9"
  },
  "orig_nbformat": 4
 },
 "nbformat": 4,
 "nbformat_minor": 2
}
